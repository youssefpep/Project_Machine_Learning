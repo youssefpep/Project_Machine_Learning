{
 "cells": [
  {
   "cell_type": "code",
   "execution_count": 2,
   "id": "4b865425",
   "metadata": {},
   "outputs": [],
   "source": [
    "from sklearn.preprocessing import MinMaxScaler\n",
    "from sklearn.preprocessing import PolynomialFeatures\n",
    "from sklearn.model_selection import train_test_split\n",
    "from sklearn import model_selection  \n",
    "from sklearn.neighbors import KNeighborsClassifier\n",
    "import numpy as np\n",
    "from sklearn import metrics\n",
    "from sklearn.metrics import f1_score, precision_score, recall_score, roc_auc_score, classification_report, confusion_matrix, plot_confusion_matrix\n",
    "import random\n",
    "import pickle\n",
    "import pandas as pd\n",
    "import matplotlib.pyplot as plt"
   ]
  },
  {
   "cell_type": "markdown",
   "id": "fa246fd1",
   "metadata": {},
   "source": [
    "# STEP 1: LOADING THE DATASET AND PRINTING IT"
   ]
  },
  {
   "cell_type": "code",
   "execution_count": 3,
   "id": "e1a04076",
   "metadata": {},
   "outputs": [
    {
     "name": "stdout",
     "output_type": "stream",
     "text": [
      "     Unnamed: 0  location  country  gender   age  vis_wuhan  from_wuhan  \\\n",
      "0             0       104        8       1  66.0          1           0   \n",
      "1             1       101        8       0  56.0          0           1   \n",
      "2             2       137        8       1  46.0          0           1   \n",
      "3             3       116        8       0  60.0          1           0   \n",
      "4             4       116        8       1  58.0          0           0   \n",
      "..          ...       ...      ...     ...   ...        ...         ...   \n",
      "858         858        48        3       2  24.0          0           0   \n",
      "859         859         0        0       2  35.0          0           0   \n",
      "860         860         3        1       1  49.4          0           0   \n",
      "861         861        24        9       1  49.4          0           0   \n",
      "862         862        15       27       1  70.0          0           0   \n",
      "\n",
      "     symptom1  symptom2  symptom3  symptom4  symptom5  diff_sym_hos  result  \n",
      "0          14        31        19        12         3             8       1  \n",
      "1          14        31        19        12         3             0       0  \n",
      "2          14        31        19        12         3            13       0  \n",
      "3          14        31        19        12         3             0       0  \n",
      "4          14        31        19        12         3             0       0  \n",
      "..        ...       ...       ...       ...       ...           ...     ...  \n",
      "858        14        31        19        12         3             0       1  \n",
      "859        14        31        19        12         3             0       0  \n",
      "860        14        31        19        12         3             0       0  \n",
      "861        14        31        19        12         3             0       0  \n",
      "862        14        31        19        12         3             0       0  \n",
      "\n",
      "[863 rows x 14 columns]\n"
     ]
    }
   ],
   "source": [
    "dataSet = pd.read_csv(\"data.csv\")\n",
    "dataSet = dataSet.drop(dataSet.columns[[12]], axis=1)\n",
    "print(dataSet)"
   ]
  },
  {
   "cell_type": "code",
   "execution_count": 4,
   "id": "6fb988fc",
   "metadata": {},
   "outputs": [
    {
     "name": "stdout",
     "output_type": "stream",
     "text": [
      "     Unnamed: 0   age  vis_wuhan  from_wuhan  location_0  location_1  \\\n",
      "0             0  66.0          1           0           0           0   \n",
      "1             1  56.0          0           1           0           0   \n",
      "2             2  46.0          0           1           0           0   \n",
      "3             3  60.0          1           0           0           0   \n",
      "4             4  58.0          0           0           0           0   \n",
      "..          ...   ...        ...         ...         ...         ...   \n",
      "858         858  24.0          0           0           0           0   \n",
      "859         859  35.0          0           0           1           0   \n",
      "860         860  49.4          0           0           0           0   \n",
      "861         861  49.4          0           0           0           0   \n",
      "862         862  70.0          0           0           0           0   \n",
      "\n",
      "     location_2  location_3  location_4  location_5  ...  diff_sym_hos_7  \\\n",
      "0             0           0           0           0  ...               0   \n",
      "1             0           0           0           0  ...               0   \n",
      "2             0           0           0           0  ...               0   \n",
      "3             0           0           0           0  ...               0   \n",
      "4             0           0           0           0  ...               0   \n",
      "..          ...         ...         ...         ...  ...             ...   \n",
      "858           0           0           0           0  ...               0   \n",
      "859           0           0           0           0  ...               0   \n",
      "860           0           1           0           0  ...               0   \n",
      "861           0           0           0           0  ...               0   \n",
      "862           0           0           0           0  ...               0   \n",
      "\n",
      "     diff_sym_hos_8  diff_sym_hos_9  diff_sym_hos_10  diff_sym_hos_11  \\\n",
      "0                 1               0                0                0   \n",
      "1                 0               0                0                0   \n",
      "2                 0               0                0                0   \n",
      "3                 0               0                0                0   \n",
      "4                 0               0                0                0   \n",
      "..              ...             ...              ...              ...   \n",
      "858               0               0                0                0   \n",
      "859               0               0                0                0   \n",
      "860               0               0                0                0   \n",
      "861               0               0                0                0   \n",
      "862               0               0                0                0   \n",
      "\n",
      "     diff_sym_hos_12  diff_sym_hos_13  diff_sym_hos_14  diff_sym_hos_15  \\\n",
      "0                  0                0                0                0   \n",
      "1                  0                0                0                0   \n",
      "2                  0                1                0                0   \n",
      "3                  0                0                0                0   \n",
      "4                  0                0                0                0   \n",
      "..               ...              ...              ...              ...   \n",
      "858                0                0                0                0   \n",
      "859                0                0                0                0   \n",
      "860                0                0                0                0   \n",
      "861                0                0                0                0   \n",
      "862                0                0                0                0   \n",
      "\n",
      "     result  \n",
      "0         1  \n",
      "1         0  \n",
      "2         0  \n",
      "3         0  \n",
      "4         0  \n",
      "..      ...  \n",
      "858       1  \n",
      "859       0  \n",
      "860       0  \n",
      "861       0  \n",
      "862       0  \n",
      "\n",
      "[863 rows x 293 columns]\n"
     ]
    }
   ],
   "source": [
    "one_hot_encoded_data = pd.get_dummies(dataSet, columns = ['location', 'country', 'gender', 'symptom1', 'symptom2', 'symptom3', 'symptom4', 'symptom5', 'diff_sym_hos'])\n",
    "df = pd.DataFrame(one_hot_encoded_data)\n",
    "first_column = df.pop('result')\n",
    "df.insert(292, 'result', first_column)\n",
    "print(df)"
   ]
  },
  {
   "cell_type": "markdown",
   "id": "c2c337c6",
   "metadata": {},
   "source": [
    "# STEP 2: SPLIT THE DATASET INTO X & Y\n"
   ]
  },
  {
   "cell_type": "code",
   "execution_count": 5,
   "id": "dd8c9b19",
   "metadata": {},
   "outputs": [
    {
     "name": "stdout",
     "output_type": "stream",
     "text": [
      "X: [[66.   1.   0.  ...  0.   0.   0. ]\n",
      " [56.   0.   1.  ...  0.   0.   0. ]\n",
      " [46.   0.   1.  ...  0.   1.   0. ]\n",
      " ...\n",
      " [49.4  0.   0.  ...  0.   0.   0. ]\n",
      " [49.4  0.   0.  ...  0.   0.   0. ]\n",
      " [70.   0.   0.  ...  0.   0.   0. ]]\n",
      "Y: [1. 0. 0. 0. 0. 0. 0. 0. 0. 0. 0. 0. 0. 0. 1. 0. 0. 0. 0. 0. 0. 0. 0. 0.\n",
      " 0. 0. 0. 0. 0. 0. 0. 0. 1. 0. 1. 0. 0. 0. 0. 0. 0. 0. 0. 0. 0. 0. 0. 0.\n",
      " 0. 0. 0. 0. 0. 0. 0. 0. 0. 0. 0. 0. 0. 0. 0. 0. 0. 0. 0. 0. 0. 0. 0. 0.\n",
      " 0. 0. 0. 0. 0. 0. 0. 0. 0. 0. 0. 0. 0. 0. 0. 0. 0. 0. 0. 0. 0. 0. 0. 0.\n",
      " 0. 0. 0. 0. 0. 0. 0. 0. 1. 0. 0. 0. 0. 0. 0. 0. 1. 0. 0. 0. 0. 0. 0. 0.\n",
      " 1. 0. 0. 0. 1. 0. 0. 0. 1. 1. 0. 0. 0. 0. 0. 1. 0. 0. 0. 0. 0. 1. 0. 0.\n",
      " 0. 0. 0. 1. 0. 0. 0. 0. 0. 0. 0. 0. 0. 0. 0. 0. 0. 0. 0. 0. 0. 0. 0. 0.\n",
      " 0. 0. 0. 0. 0. 0. 0. 0. 0. 0. 0. 0. 0. 0. 0. 0. 0. 0. 0. 0. 0. 0. 0. 0.\n",
      " 0. 0. 1. 0. 0. 0. 0. 0. 0. 0. 0. 0. 0. 0. 0. 0. 0. 0. 0. 0. 0. 0. 0. 1.\n",
      " 0. 0. 1. 0. 1. 0. 0. 0. 0. 0. 0. 0. 0. 0. 0. 0. 0. 0. 0. 1. 0. 0. 0. 0.\n",
      " 0. 0. 0. 0. 0. 1. 1. 0. 0. 1. 1. 1. 1. 1. 0. 0. 0. 0. 0. 1. 0. 0. 1. 1.\n",
      " 0. 0. 0. 1. 0. 0. 0. 1. 1. 0. 0. 0. 0. 0. 0. 0. 0. 0. 0. 0. 0. 0. 1. 0.\n",
      " 1. 0. 0. 0. 0. 1. 0. 1. 0. 0. 0. 0. 0. 0. 0. 0. 0. 0. 0. 0. 0. 0. 0. 0.\n",
      " 0. 0. 0. 0. 0. 0. 0. 0. 0. 0. 0. 0. 0. 1. 1. 0. 0. 0. 0. 1. 1. 1. 0. 0.\n",
      " 1. 1. 0. 0. 0. 0. 0. 0. 0. 0. 0. 0. 1. 1. 0. 0. 0. 0. 0. 1. 0. 1. 0. 0.\n",
      " 0. 0. 0. 0. 0. 0. 0. 0. 0. 0. 1. 0. 0. 0. 0. 0. 0. 0. 0. 0. 1. 0. 0. 0.\n",
      " 0. 0. 0. 0. 0. 0. 0. 0. 0. 0. 1. 0. 0. 0. 0. 0. 0. 0. 0. 0. 0. 0. 0. 0.\n",
      " 0. 0. 1. 0. 1. 0. 0. 0. 0. 0. 0. 1. 0. 0. 0. 0. 0. 0. 0. 0. 0. 1. 0. 0.\n",
      " 1. 0. 0. 0. 0. 0. 0. 0. 0. 0. 0. 0. 0. 0. 0. 0. 0. 0. 0. 0. 0. 0. 0. 0.\n",
      " 0. 0. 0. 0. 0. 0. 0. 0. 0. 0. 0. 0. 0. 0. 0. 0. 0. 0. 0. 0. 0. 0. 0. 1.\n",
      " 0. 0. 0. 0. 0. 0. 0. 0. 0. 0. 0. 0. 0. 0. 0. 0. 0. 0. 0. 0. 0. 0. 1. 0.\n",
      " 0. 0. 0. 0. 1. 0. 0. 1. 0. 0. 0. 0. 0. 1. 0. 0. 1. 0. 1. 0. 0. 0. 0. 0.\n",
      " 0. 0. 0. 0. 0. 0. 0. 1. 0. 0. 0. 0. 0. 0. 0. 0. 0. 0. 0. 0. 0. 0. 0. 0.\n",
      " 0. 0. 0. 0. 0. 0. 0. 0. 0. 0. 0. 0. 0. 0. 0. 0. 0. 0. 0. 0. 0. 0. 0. 0.\n",
      " 1. 1. 1. 1. 1. 1. 1. 0. 1. 1. 1. 0. 0. 0. 0. 0. 0. 0. 0. 0. 0. 1. 0. 0.\n",
      " 0. 0. 0. 0. 0. 0. 0. 0. 0. 0. 0. 0. 0. 0. 0. 0. 0. 0. 0. 0. 0. 0. 0. 0.\n",
      " 0. 0. 0. 0. 0. 0. 0. 0. 0. 0. 0. 0. 0. 0. 0. 0. 0. 0. 0. 0. 0. 0. 0. 0.\n",
      " 0. 0. 0. 0. 0. 0. 0. 0. 0. 0. 0. 1. 0. 0. 0. 0. 0. 0. 0. 0. 0. 0. 0. 0.\n",
      " 0. 0. 0. 1. 0. 0. 0. 1. 1. 0. 0. 1. 0. 0. 0. 0. 1. 0. 0. 0. 0. 1. 1. 0.\n",
      " 1. 0. 0. 0. 0. 0. 0. 0. 1. 0. 1. 0. 1. 0. 1. 0. 0. 0. 1. 0. 0. 0. 0. 0.\n",
      " 0. 0. 1. 0. 0. 0. 0. 1. 1. 1. 1. 1. 0. 0. 0. 1. 1. 1. 1. 1. 0. 0. 1. 0.\n",
      " 0. 0. 0. 0. 0. 0. 1. 0. 0. 0. 1. 0. 0. 1. 1. 0. 0. 0. 0. 0. 0. 0. 0. 0.\n",
      " 0. 0. 0. 0. 0. 0. 0. 0. 0. 0. 0. 0. 0. 1. 0. 0. 0. 0. 0. 0. 0. 0. 0. 0.\n",
      " 0. 1. 0. 0. 0. 0. 0. 0. 0. 0. 0. 0. 0. 0. 0. 0. 0. 0. 0. 1. 0. 0. 0. 0.\n",
      " 0. 0. 0. 0. 0. 0. 0. 0. 0. 0. 0. 0. 0. 0. 0. 0. 0. 0. 0. 0. 0. 0. 0. 0.\n",
      " 0. 0. 0. 0. 0. 0. 0. 0. 0. 0. 0. 0. 0. 0. 0. 0. 0. 1. 1. 0. 0. 0. 0.]\n"
     ]
    }
   ],
   "source": [
    "df = np.array(df)\n",
    "x = df[0:864, 1:291]\n",
    "y = df[0:864, 292]\n",
    "print(\"X:\", x)\n",
    "print(\"Y:\", y)"
   ]
  },
  {
   "cell_type": "markdown",
   "id": "7f2ed498",
   "metadata": {},
   "source": [
    "# STEP 3: SPLIT THE DATA INTO TRAIN, VALIDATION, AND TEST"
   ]
  },
  {
   "cell_type": "code",
   "execution_count": 6,
   "id": "4e1b6d2d",
   "metadata": {},
   "outputs": [
    {
     "name": "stdout",
     "output_type": "stream",
     "text": [
      "690\n",
      "87\n",
      "86\n"
     ]
    }
   ],
   "source": [
    "xTrain, x_temp, yTrain, y_temp = train_test_split(x,y,train_size=0.8, random_state = 42)\n",
    "xTest, xValidation, yTest, yValidation =  train_test_split(x_temp,y_temp,train_size=0.50,random_state = 42)\n",
    "print(len(xTrain))\n",
    "print(len(xValidation))\n",
    "print(len(xTest))\n"
   ]
  },
  {
   "cell_type": "markdown",
   "id": "573dfddb",
   "metadata": {},
   "source": [
    "# STEP 4: USE KNN CLASSIFIER OVER DIFFERENT K VALUES"
   ]
  },
  {
   "cell_type": "code",
   "execution_count": 7,
   "id": "2c9be51c",
   "metadata": {
    "scrolled": true
   },
   "outputs": [
    {
     "name": "stdout",
     "output_type": "stream",
     "text": [
      "[0. 0. 1. 0. 0. 0. 0. 0. 0. 0. 0. 0. 0. 0. 0. 0. 0. 0. 0. 0. 1. 0. 1. 1.\n",
      " 0. 0. 0. 1. 0. 0. 0. 0. 0. 0. 0. 0. 0. 1. 0. 0. 0. 0. 1. 0. 1. 0. 0. 0.\n",
      " 0. 0. 0. 0. 0. 0. 0. 0. 0. 0. 0. 0. 0. 0. 1. 0. 0. 0. 1. 0. 0. 0. 0. 0.\n",
      " 0. 0. 0. 0. 0. 0. 0. 0. 0. 0. 0. 0. 0. 0. 0.]\n",
      "Accuracy 0.9080459770114943\n",
      "[0. 0. 1. 0. 0. 0. 0. 0. 0. 0. 0. 0. 0. 0. 0. 0. 0. 0. 0. 0. 1. 0. 0. 1.\n",
      " 0. 0. 0. 1. 0. 0. 0. 0. 0. 0. 0. 0. 0. 1. 0. 0. 0. 0. 1. 0. 1. 0. 0. 0.\n",
      " 0. 0. 0. 0. 0. 0. 0. 0. 0. 0. 0. 0. 0. 0. 1. 0. 0. 0. 1. 0. 0. 0. 0. 0.\n",
      " 0. 0. 0. 0. 0. 0. 0. 0. 0. 0. 0. 0. 0. 0. 0.]\n",
      "Accuracy 0.9195402298850575\n",
      "[0. 0. 1. 0. 0. 0. 0. 0. 0. 0. 0. 0. 0. 0. 0. 0. 0. 0. 0. 0. 1. 0. 0. 1.\n",
      " 0. 0. 0. 1. 0. 0. 0. 0. 0. 0. 0. 0. 0. 1. 0. 0. 0. 0. 1. 0. 1. 0. 0. 0.\n",
      " 0. 0. 0. 0. 0. 0. 0. 0. 0. 0. 0. 0. 0. 0. 1. 0. 0. 0. 1. 0. 0. 0. 0. 0.\n",
      " 0. 0. 0. 0. 0. 0. 0. 1. 0. 0. 0. 0. 0. 0. 0.]\n",
      "Accuracy 0.9310344827586207\n",
      "[0. 0. 1. 0. 0. 0. 0. 0. 0. 0. 0. 0. 0. 0. 0. 0. 0. 0. 0. 0. 1. 0. 0. 1.\n",
      " 0. 0. 0. 1. 0. 0. 0. 0. 0. 0. 0. 0. 0. 1. 0. 0. 0. 0. 0. 0. 1. 0. 0. 0.\n",
      " 0. 0. 0. 0. 0. 0. 0. 0. 0. 0. 0. 0. 0. 0. 1. 0. 0. 0. 1. 0. 0. 0. 0. 0.\n",
      " 0. 0. 0. 0. 0. 0. 0. 0. 0. 0. 0. 0. 0. 0. 0.]\n",
      "Accuracy 0.9080459770114943\n",
      "[0. 0. 1. 0. 0. 0. 0. 0. 0. 0. 0. 0. 0. 0. 0. 0. 0. 0. 0. 0. 1. 0. 0. 1.\n",
      " 0. 0. 0. 1. 0. 0. 0. 0. 0. 0. 0. 0. 0. 1. 0. 0. 0. 0. 0. 0. 1. 0. 0. 0.\n",
      " 0. 0. 0. 0. 0. 0. 0. 0. 0. 0. 0. 0. 1. 0. 1. 0. 0. 0. 1. 0. 0. 0. 0. 0.\n",
      " 0. 0. 0. 0. 0. 0. 0. 0. 0. 0. 0. 0. 0. 0. 0.]\n",
      "Accuracy 0.896551724137931\n",
      "[0. 0. 1. 0. 0. 0. 0. 0. 0. 0. 0. 0. 0. 0. 0. 0. 0. 0. 0. 0. 1. 0. 0. 1.\n",
      " 0. 0. 0. 1. 0. 0. 0. 0. 0. 0. 0. 0. 0. 1. 0. 0. 0. 0. 0. 0. 1. 0. 0. 0.\n",
      " 0. 0. 0. 0. 0. 0. 0. 0. 0. 0. 0. 0. 0. 0. 1. 0. 0. 0. 1. 0. 0. 0. 0. 0.\n",
      " 0. 0. 0. 0. 0. 0. 0. 0. 0. 0. 0. 0. 0. 0. 0.]\n",
      "Accuracy 0.9080459770114943\n",
      "[0. 0. 1. 0. 0. 0. 0. 0. 0. 0. 0. 0. 0. 0. 0. 0. 0. 0. 0. 0. 1. 0. 0. 1.\n",
      " 0. 0. 0. 1. 0. 0. 0. 0. 0. 0. 0. 0. 0. 1. 0. 0. 0. 0. 0. 0. 1. 0. 0. 0.\n",
      " 0. 0. 0. 0. 0. 0. 0. 0. 0. 0. 0. 0. 0. 0. 1. 0. 0. 0. 1. 0. 0. 0. 0. 0.\n",
      " 0. 0. 0. 0. 0. 0. 0. 0. 0. 0. 0. 0. 0. 0. 0.]\n",
      "Accuracy 0.9080459770114943\n",
      "[0. 0. 1. 0. 0. 0. 0. 0. 0. 0. 0. 0. 0. 0. 0. 0. 0. 0. 0. 0. 1. 0. 0. 1.\n",
      " 0. 0. 0. 1. 0. 0. 0. 0. 0. 0. 0. 0. 0. 1. 0. 0. 0. 0. 0. 0. 1. 0. 0. 0.\n",
      " 0. 0. 0. 0. 0. 0. 0. 0. 0. 0. 0. 0. 0. 0. 1. 0. 0. 0. 1. 0. 0. 0. 0. 0.\n",
      " 0. 0. 0. 0. 0. 0. 0. 0. 0. 0. 0. 0. 0. 0. 0.]\n",
      "Accuracy 0.9080459770114943\n",
      "[0. 0. 1. 0. 0. 0. 0. 0. 0. 0. 0. 0. 0. 0. 0. 0. 0. 0. 0. 0. 1. 0. 0. 1.\n",
      " 0. 0. 0. 1. 0. 0. 0. 0. 0. 0. 0. 0. 0. 1. 0. 0. 0. 0. 0. 0. 1. 0. 1. 0.\n",
      " 0. 0. 0. 0. 0. 0. 0. 0. 0. 0. 0. 0. 0. 0. 1. 0. 0. 0. 1. 0. 0. 0. 0. 0.\n",
      " 0. 0. 0. 0. 0. 0. 0. 0. 0. 0. 0. 0. 0. 0. 0.]\n",
      "Accuracy 0.896551724137931\n",
      "[0. 0. 1. 0. 0. 0. 0. 0. 0. 0. 0. 0. 0. 0. 0. 0. 0. 0. 0. 0. 1. 0. 0. 1.\n",
      " 0. 0. 0. 1. 0. 0. 0. 0. 0. 0. 0. 0. 0. 1. 0. 0. 0. 0. 0. 0. 1. 0. 0. 0.\n",
      " 0. 0. 0. 0. 0. 0. 0. 0. 0. 0. 0. 0. 0. 0. 1. 0. 0. 0. 1. 0. 0. 0. 0. 0.\n",
      " 0. 0. 0. 0. 0. 0. 0. 0. 0. 0. 0. 0. 0. 0. 0.]\n",
      "Accuracy 0.9080459770114943\n",
      "[0. 0. 1. 0. 0. 0. 0. 0. 0. 0. 0. 0. 0. 0. 0. 0. 0. 0. 0. 0. 1. 0. 0. 1.\n",
      " 0. 0. 0. 1. 0. 0. 0. 0. 0. 0. 0. 0. 0. 1. 0. 0. 0. 0. 0. 0. 1. 0. 1. 0.\n",
      " 0. 0. 0. 0. 0. 0. 0. 0. 0. 0. 0. 0. 0. 0. 1. 0. 0. 0. 1. 0. 0. 0. 0. 0.\n",
      " 0. 0. 0. 0. 0. 0. 0. 0. 0. 0. 0. 0. 0. 0. 0.]\n",
      "Accuracy 0.896551724137931\n",
      "[0. 0. 1. 0. 0. 0. 0. 0. 0. 0. 0. 0. 0. 0. 0. 0. 0. 0. 0. 0. 1. 0. 0. 1.\n",
      " 0. 0. 0. 1. 0. 0. 0. 0. 0. 0. 0. 0. 0. 1. 0. 0. 0. 0. 0. 0. 1. 0. 1. 0.\n",
      " 0. 0. 0. 0. 0. 0. 0. 0. 0. 0. 0. 0. 0. 0. 1. 0. 0. 0. 1. 0. 0. 0. 0. 0.\n",
      " 0. 0. 0. 0. 0. 0. 0. 0. 0. 0. 0. 0. 0. 0. 0.]\n",
      "Accuracy 0.896551724137931\n",
      "[0. 0. 1. 0. 0. 0. 0. 0. 0. 0. 0. 0. 0. 0. 0. 0. 0. 0. 0. 0. 1. 0. 0. 1.\n",
      " 0. 0. 0. 1. 0. 0. 0. 0. 0. 0. 0. 0. 0. 1. 0. 0. 0. 0. 0. 0. 1. 0. 1. 0.\n",
      " 0. 0. 0. 0. 0. 0. 0. 0. 0. 0. 0. 0. 1. 0. 1. 0. 0. 0. 1. 0. 0. 0. 0. 0.\n",
      " 0. 0. 0. 0. 0. 0. 0. 0. 0. 0. 0. 0. 0. 0. 0.]\n",
      "Accuracy 0.8850574712643678\n"
     ]
    }
   ],
   "source": [
    "modelAccuracy = [];\n",
    "for i in range(1,14):\n",
    "    model = KNeighborsClassifier(n_neighbors=i)\n",
    "\n",
    "    # Train the model using the training sets\n",
    "    model.fit(xTrain, yTrain)\n",
    "\n",
    "    #Predict Output on Validation Data\n",
    "    predicted= model.predict(xValidation) \n",
    "        \n",
    "    print(predicted)\n",
    "    modelAccuracy.append(metrics.accuracy_score(yValidation, predicted))\n",
    "    print (\"Accuracy\", metrics.accuracy_score(yValidation, predicted))"
   ]
  },
  {
   "cell_type": "markdown",
   "id": "4935b5d1",
   "metadata": {},
   "source": [
    "# STEP 5: FIND THE K VALUE WITH THE HIGHEST ACCURACY"
   ]
  },
  {
   "cell_type": "code",
   "execution_count": 8,
   "id": "fec3e99a",
   "metadata": {},
   "outputs": [
    {
     "name": "stdout",
     "output_type": "stream",
     "text": [
      "3\n"
     ]
    }
   ],
   "source": [
    "bestAccuracy = max(modelAccuracy)\n",
    "optimalN = modelAccuracy.index(bestAccuracy)+1\n",
    "print(optimalN)"
   ]
  },
  {
   "cell_type": "markdown",
   "id": "aefd586b",
   "metadata": {},
   "source": [
    "# STEP 6: USE THE K VALUE TO TRAIN THE MODEL AND VALIDATE IT"
   ]
  },
  {
   "cell_type": "code",
   "execution_count": 9,
   "id": "de99839a",
   "metadata": {},
   "outputs": [
    {
     "name": "stdout",
     "output_type": "stream",
     "text": [
      "[0. 0. 1. 0. 0. 0. 1. 0. 0. 0. 0. 0. 0. 0. 1. 0. 0. 1. 0. 0. 0. 0. 0. 0.\n",
      " 0. 0. 0. 0. 0. 0. 0. 0. 0. 0. 0. 0. 0. 0. 0. 0. 0. 0. 0. 0. 0. 0. 0. 0.\n",
      " 0. 0. 0. 0. 1. 0. 0. 0. 0. 0. 1. 0. 0. 0. 0. 0. 0. 0. 0. 1. 0. 0. 0. 0.\n",
      " 0. 0. 0. 0. 0. 0. 1. 0. 0. 0. 0. 0. 0. 0.]\n",
      "Accuracy 0.9651162790697675\n"
     ]
    }
   ],
   "source": [
    "model = KNeighborsClassifier(n_neighbors=3)\n",
    "# Train the model using the training sets\n",
    "model.fit(xTrain, yTrain)\n",
    "\n",
    "#Predicted Output on Test Data\n",
    "y_pred= model.predict(xTest) \n",
    "        \n",
    "print(y_pred)\n",
    "modelAccuracy.append(metrics.accuracy_score(yTest, y_pred))\n",
    "print (\"Accuracy\", metrics.accuracy_score(yTest, y_pred))"
   ]
  },
  {
   "cell_type": "markdown",
   "id": "8d20e680",
   "metadata": {},
   "source": [
    "# STEP 7: CALCULATING THE PERFORMANCE METRICS"
   ]
  },
  {
   "cell_type": "code",
   "execution_count": 10,
   "id": "a0acf65c",
   "metadata": {
    "scrolled": true
   },
   "outputs": [
    {
     "name": "stdout",
     "output_type": "stream",
     "text": [
      "Precision: 0.875000\n",
      "Recall: 0.777778\n",
      "F1 score: 0.823529\n",
      "ROC AUC: 0.882395\n"
     ]
    },
    {
     "name": "stderr",
     "output_type": "stream",
     "text": [
      "C:\\Users\\UNiversal ADV\\miniconda3\\envs\\mlpr\\lib\\site-packages\\sklearn\\utils\\deprecation.py:87: FutureWarning: Function plot_confusion_matrix is deprecated; Function `plot_confusion_matrix` is deprecated in 1.0 and will be removed in 1.2. Use one of the class methods: ConfusionMatrixDisplay.from_predictions or ConfusionMatrixDisplay.from_estimator.\n",
      "  warnings.warn(msg, category=FutureWarning)\n"
     ]
    },
    {
     "data": {
      "text/plain": "<Figure size 432x288 with 2 Axes>",
      "image/png": "[encoded data removed]"
     },
     "metadata": {
      "needs_background": "light"
     },
     "output_type": "display_data"
    }
   ],
   "source": [
    "precision = precision_score(yTest, y_pred)\n",
    "print('Precision: %f' % precision)\n",
    "recall = recall_score(yTest, y_pred)\n",
    "print('Recall: %f' % recall)\n",
    "f1 = f1_score(yTest, y_pred)\n",
    "print('F1 score: %f' % f1)\n",
    "auc = roc_auc_score(yTest, y_pred)\n",
    "print('ROC AUC: %f' % auc)\n",
    "plot_confusion_matrix(model, xTest, yTest)\n",
    "plt.show()"
   ]
  },
  {
   "cell_type": "markdown",
   "id": "1e2f2cc1",
   "metadata": {},
   "source": [
    "# STEP 8: GRAPHING THE ROC CURVE"
   ]
  },
  {
   "cell_type": "code",
   "execution_count": 11,
   "id": "bc4dc4b7",
   "metadata": {},
   "outputs": [
    {
     "data": {
      "text/plain": "<Figure size 432x288 with 1 Axes>",
      "image/png": "[encoded data removed]"
     },
     "metadata": {
      "needs_background": "light"
     },
     "output_type": "display_data"
    }
   ],
   "source": [
    "y_pred_proba = model.predict_proba(xTest)[::,1]\n",
    "fpr, tpr, _ = metrics.roc_curve(yTest,  y_pred_proba)\n",
    "auc = metrics.roc_auc_score(yTest, y_pred_proba)\n",
    "\n",
    "plt.plot(fpr,tpr,label=\"AUC=\"+str(auc))\n",
    "plt.ylabel('True Positive Rate')\n",
    "plt.xlabel('False Positive Rate')\n",
    "plt.legend(loc=4)\n",
    "plt.show()"
   ]
  },
  {
   "cell_type": "code",
   "execution_count": 11,
   "id": "a9d84362",
   "metadata": {},
   "outputs": [],
   "source": []
  },
  {
   "cell_type": "code",
   "execution_count": null,
   "outputs": [],
   "source": [],
   "metadata": {
    "collapsed": false,
    "pycharm": {
     "name": "#%%\n"
    }
   }
  },
  {
   "cell_type": "code",
   "execution_count": null,
   "outputs": [],
   "source": [],
   "metadata": {
    "collapsed": false,
    "pycharm": {
     "name": "#%%\n"
    }
   }
  }
 ],
 "metadata": {
  "kernelspec": {
   "display_name": "Python 3 (ipykernel)",
   "language": "python",
   "name": "python3"
  },
  "language_info": {
   "codemirror_mode": {
    "name": "ipython",
    "version": 3
   },
   "file_extension": ".py",
   "mimetype": "text/x-python",
   "name": "python",
   "nbconvert_exporter": "python",
   "pygments_lexer": "ipython3",
   "version": "3.9.7"
  }
 },
 "nbformat": 4,
 "nbformat_minor": 5
}