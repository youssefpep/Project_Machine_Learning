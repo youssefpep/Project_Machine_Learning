{
 "cells": [
  {
   "cell_type": "code",
   "execution_count": 1,
   "id": "c394bbd6",
   "metadata": {},
   "outputs": [],
   "source": [
    "from sklearn.linear_model import LinearRegression\n",
    "from sklearn.preprocessing import PolynomialFeatures\n",
    "from sklearn.model_selection import train_test_split\n",
    "from sklearn.preprocessing import MinMaxScaler\n",
    "from sklearn import svm\n",
    "from sklearn import model_selection  \n",
    "from sklearn import metrics\n",
    "from sklearn.metrics import f1_score, precision_score, recall_score, roc_auc_score, classification_report, confusion_matrix, plot_confusion_matrix\n",
    "import pydotplus\n",
    "import random\n",
    "import numpy as np\n",
    "import random\n",
    "import pickle\n",
    "import pandas as pd\n",
    "import matplotlib.pyplot as plt"
   ]
  },
  {
   "cell_type": "markdown",
   "id": "01bf46e8",
   "metadata": {},
   "source": [
    "# STEP 1: LOADING THE DATASET AND PRINTING IT"
   ]
  },
  {
   "cell_type": "code",
   "execution_count": 2,
   "id": "9491564b",
   "metadata": {},
   "outputs": [
    {
     "name": "stdout",
     "output_type": "stream",
     "text": [
      "     Unnamed: 0  location  country  gender   age  vis_wuhan  from_wuhan  \\\n",
      "0             0       104        8       1  66.0          1           0   \n",
      "1             1       101        8       0  56.0          0           1   \n",
      "2             2       137        8       1  46.0          0           1   \n",
      "3             3       116        8       0  60.0          1           0   \n",
      "4             4       116        8       1  58.0          0           0   \n",
      "..          ...       ...      ...     ...   ...        ...         ...   \n",
      "858         858        48        3       2  24.0          0           0   \n",
      "859         859         0        0       2  35.0          0           0   \n",
      "860         860         3        1       1  49.4          0           0   \n",
      "861         861        24        9       1  49.4          0           0   \n",
      "862         862        15       27       1  70.0          0           0   \n",
      "\n",
      "     symptom1  symptom2  symptom3  symptom4  symptom5  symptom6  diff_sym_hos  \\\n",
      "0          14        31        19        12         3         1             8   \n",
      "1          14        31        19        12         3         1             0   \n",
      "2          14        31        19        12         3         1            13   \n",
      "3          14        31        19        12         3         1             0   \n",
      "4          14        31        19        12         3         1             0   \n",
      "..        ...       ...       ...       ...       ...       ...           ...   \n",
      "858        14        31        19        12         3         1             0   \n",
      "859        14        31        19        12         3         1             0   \n",
      "860        14        31        19        12         3         1             0   \n",
      "861        14        31        19        12         3         1             0   \n",
      "862        14        31        19        12         3         1             0   \n",
      "\n",
      "     result  \n",
      "0         1  \n",
      "1         0  \n",
      "2         0  \n",
      "3         0  \n",
      "4         0  \n",
      "..      ...  \n",
      "858       1  \n",
      "859       0  \n",
      "860       0  \n",
      "861       0  \n",
      "862       0  \n",
      "\n",
      "[863 rows x 15 columns]\n"
     ]
    }
   ],
   "source": [
    "dataSet = pd.read_csv(\"data.csv\")\n",
    "print (dataSet)"
   ]
  },
  {
   "cell_type": "markdown",
   "id": "2a25ab75",
   "metadata": {},
   "source": [
    "# STEP 2: ENCODING CATEGORICAL FEATURES"
   ]
  },
  {
   "cell_type": "code",
   "execution_count": 3,
   "id": "2da585f1",
   "metadata": {},
   "outputs": [
    {
     "name": "stdout",
     "output_type": "stream",
     "text": [
      "     Unnamed: 0   age  vis_wuhan  from_wuhan  diff_sym_hos  location_0  \\\n",
      "0             0  66.0          1           0             8           0   \n",
      "1             1  56.0          0           1             0           0   \n",
      "2             2  46.0          0           1            13           0   \n",
      "3             3  60.0          1           0             0           0   \n",
      "4             4  58.0          0           0             0           0   \n",
      "..          ...   ...        ...         ...           ...         ...   \n",
      "858         858  24.0          0           0             0           0   \n",
      "859         859  35.0          0           0             0           1   \n",
      "860         860  49.4          0           0             0           0   \n",
      "861         861  49.4          0           0             0           0   \n",
      "862         862  70.0          0           0             0           0   \n",
      "\n",
      "     location_1  location_2  location_3  location_4  ...  symptom4_10  \\\n",
      "0             0           0           0           0  ...            0   \n",
      "1             0           0           0           0  ...            0   \n",
      "2             0           0           0           0  ...            0   \n",
      "3             0           0           0           0  ...            0   \n",
      "4             0           0           0           0  ...            0   \n",
      "..          ...         ...         ...         ...  ...          ...   \n",
      "858           0           0           0           0  ...            0   \n",
      "859           0           0           0           0  ...            0   \n",
      "860           0           0           1           0  ...            0   \n",
      "861           0           0           0           0  ...            0   \n",
      "862           0           0           0           0  ...            0   \n",
      "\n",
      "     symptom4_11  symptom4_12  symptom5_0  symptom5_1  symptom5_2  symptom5_3  \\\n",
      "0              0            1           0           0           0           1   \n",
      "1              0            1           0           0           0           1   \n",
      "2              0            1           0           0           0           1   \n",
      "3              0            1           0           0           0           1   \n",
      "4              0            1           0           0           0           1   \n",
      "..           ...          ...         ...         ...         ...         ...   \n",
      "858            0            1           0           0           0           1   \n",
      "859            0            1           0           0           0           1   \n",
      "860            0            1           0           0           0           1   \n",
      "861            0            1           0           0           0           1   \n",
      "862            0            1           0           0           0           1   \n",
      "\n",
      "     symptom6_0  symptom6_1  result  \n",
      "0             0           1       1  \n",
      "1             0           1       0  \n",
      "2             0           1       0  \n",
      "3             0           1       0  \n",
      "4             0           1       0  \n",
      "..          ...         ...     ...  \n",
      "858           0           1       1  \n",
      "859           0           1       0  \n",
      "860           0           1       0  \n",
      "861           0           1       0  \n",
      "862           0           1       0  \n",
      "\n",
      "[863 rows x 278 columns]\n"
     ]
    }
   ],
   "source": [
    "one_hot_encoded_data = pd.get_dummies(dataSet, columns = ['location', 'country', 'gender', 'symptom1', 'symptom2', 'symptom3', 'symptom4', 'symptom5', 'symptom6'])\n",
    "df = pd.DataFrame(one_hot_encoded_data)\n",
    "first_column = df.pop('result')\n",
    "df.insert(277, 'result', first_column)\n",
    "print(df)"
   ]
  },
  {
   "cell_type": "markdown",
   "id": "40fe5f45",
   "metadata": {},
   "source": [
    "# STEP 3: SPLIT THE DATASET INTO X & Y"
   ]
  },
  {
   "cell_type": "code",
   "execution_count": 4,
   "id": "e3f2c578",
   "metadata": {},
   "outputs": [
    {
     "name": "stdout",
     "output_type": "stream",
     "text": [
      "X: [[66.   1.   0.  ...  0.   1.   0. ]\n",
      " [56.   0.   1.  ...  0.   1.   0. ]\n",
      " [46.   0.   1.  ...  0.   1.   0. ]\n",
      " ...\n",
      " [49.4  0.   0.  ...  0.   1.   0. ]\n",
      " [49.4  0.   0.  ...  0.   1.   0. ]\n",
      " [70.   0.   0.  ...  0.   1.   0. ]]\n",
      "Y: [1. 0. 0. 0. 0. 0. 0. 0. 0. 0. 0. 0. 0. 0. 1. 0. 0. 0. 0. 0. 0. 0. 0. 0.\n",
      " 0. 0. 0. 0. 0. 0. 0. 0. 1. 0. 1. 0. 0. 0. 0. 0. 0. 0. 0. 0. 0. 0. 0. 0.\n",
      " 0. 0. 0. 0. 0. 0. 0. 0. 0. 0. 0. 0. 0. 0. 0. 0. 0. 0. 0. 0. 0. 0. 0. 0.\n",
      " 0. 0. 0. 0. 0. 0. 0. 0. 0. 0. 0. 0. 0. 0. 0. 0. 0. 0. 0. 0. 0. 0. 0. 0.\n",
      " 0. 0. 0. 0. 0. 0. 0. 0. 1. 0. 0. 0. 0. 0. 0. 0. 1. 0. 0. 0. 0. 0. 0. 0.\n",
      " 1. 0. 0. 0. 1. 0. 0. 0. 1. 1. 0. 0. 0. 0. 0. 1. 0. 0. 0. 0. 0. 1. 0. 0.\n",
      " 0. 0. 0. 1. 0. 0. 0. 0. 0. 0. 0. 0. 0. 0. 0. 0. 0. 0. 0. 0. 0. 0. 0. 0.\n",
      " 0. 0. 0. 0. 0. 0. 0. 0. 0. 0. 0. 0. 0. 0. 0. 0. 0. 0. 0. 0. 0. 0. 0. 0.\n",
      " 0. 0. 1. 0. 0. 0. 0. 0. 0. 0. 0. 0. 0. 0. 0. 0. 0. 0. 0. 0. 0. 0. 0. 1.\n",
      " 0. 0. 1. 0. 1. 0. 0. 0. 0. 0. 0. 0. 0. 0. 0. 0. 0. 0. 0. 1. 0. 0. 0. 0.\n",
      " 0. 0. 0. 0. 0. 1. 1. 0. 0. 1. 1. 1. 1. 1. 0. 0. 0. 0. 0. 1. 0. 0. 1. 1.\n",
      " 0. 0. 0. 1. 0. 0. 0. 1. 1. 0. 0. 0. 0. 0. 0. 0. 0. 0. 0. 0. 0. 0. 1. 0.\n",
      " 1. 0. 0. 0. 0. 1. 0. 1. 0. 0. 0. 0. 0. 0. 0. 0. 0. 0. 0. 0. 0. 0. 0. 0.\n",
      " 0. 0. 0. 0. 0. 0. 0. 0. 0. 0. 0. 0. 0. 1. 1. 0. 0. 0. 0. 1. 1. 1. 0. 0.\n",
      " 1. 1. 0. 0. 0. 0. 0. 0. 0. 0. 0. 0. 1. 1. 0. 0. 0. 0. 0. 1. 0. 1. 0. 0.\n",
      " 0. 0. 0. 0. 0. 0. 0. 0. 0. 0. 1. 0. 0. 0. 0. 0. 0. 0. 0. 0. 1. 0. 0. 0.\n",
      " 0. 0. 0. 0. 0. 0. 0. 0. 0. 0. 1. 0. 0. 0. 0. 0. 0. 0. 0. 0. 0. 0. 0. 0.\n",
      " 0. 0. 1. 0. 1. 0. 0. 0. 0. 0. 0. 1. 0. 0. 0. 0. 0. 0. 0. 0. 0. 1. 0. 0.\n",
      " 1. 0. 0. 0. 0. 0. 0. 0. 0. 0. 0. 0. 0. 0. 0. 0. 0. 0. 0. 0. 0. 0. 0. 0.\n",
      " 0. 0. 0. 0. 0. 0. 0. 0. 0. 0. 0. 0. 0. 0. 0. 0. 0. 0. 0. 0. 0. 0. 0. 1.\n",
      " 0. 0. 0. 0. 0. 0. 0. 0. 0. 0. 0. 0. 0. 0. 0. 0. 0. 0. 0. 0. 0. 0. 1. 0.\n",
      " 0. 0. 0. 0. 1. 0. 0. 1. 0. 0. 0. 0. 0. 1. 0. 0. 1. 0. 1. 0. 0. 0. 0. 0.\n",
      " 0. 0. 0. 0. 0. 0. 0. 1. 0. 0. 0. 0. 0. 0. 0. 0. 0. 0. 0. 0. 0. 0. 0. 0.\n",
      " 0. 0. 0. 0. 0. 0. 0. 0. 0. 0. 0. 0. 0. 0. 0. 0. 0. 0. 0. 0. 0. 0. 0. 0.\n",
      " 1. 1. 1. 1. 1. 1. 1. 0. 1. 1. 1. 0. 0. 0. 0. 0. 0. 0. 0. 0. 0. 1. 0. 0.\n",
      " 0. 0. 0. 0. 0. 0. 0. 0. 0. 0. 0. 0. 0. 0. 0. 0. 0. 0. 0. 0. 0. 0. 0. 0.\n",
      " 0. 0. 0. 0. 0. 0. 0. 0. 0. 0. 0. 0. 0. 0. 0. 0. 0. 0. 0. 0. 0. 0. 0. 0.\n",
      " 0. 0. 0. 0. 0. 0. 0. 0. 0. 0. 0. 1. 0. 0. 0. 0. 0. 0. 0. 0. 0. 0. 0. 0.\n",
      " 0. 0. 0. 1. 0. 0. 0. 1. 1. 0. 0. 1. 0. 0. 0. 0. 1. 0. 0. 0. 0. 1. 1. 0.\n",
      " 1. 0. 0. 0. 0. 0. 0. 0. 1. 0. 1. 0. 1. 0. 1. 0. 0. 0. 1. 0. 0. 0. 0. 0.\n",
      " 0. 0. 1. 0. 0. 0. 0. 1. 1. 1. 1. 1. 0. 0. 0. 1. 1. 1. 1. 1. 0. 0. 1. 0.\n",
      " 0. 0. 0. 0. 0. 0. 1. 0. 0. 0. 1. 0. 0. 1. 1. 0. 0. 0. 0. 0. 0. 0. 0. 0.\n",
      " 0. 0. 0. 0. 0. 0. 0. 0. 0. 0. 0. 0. 0. 1. 0. 0. 0. 0. 0. 0. 0. 0. 0. 0.\n",
      " 0. 1. 0. 0. 0. 0. 0. 0. 0. 0. 0. 0. 0. 0. 0. 0. 0. 0. 0. 1. 0. 0. 0. 0.\n",
      " 0. 0. 0. 0. 0. 0. 0. 0. 0. 0. 0. 0. 0. 0. 0. 0. 0. 0. 0. 0. 0. 0. 0. 0.\n",
      " 0. 0. 0. 0. 0. 0. 0. 0. 0. 0. 0. 0. 0. 0. 0. 0. 0. 1. 1. 0. 0. 0. 0.]\n"
     ]
    }
   ],
   "source": [
    "df = np.array(df)\n",
    "x = df[0:864, 1:276]\n",
    "y = df[0:864, 277]\n",
    "print(\"X:\", x)\n",
    "print(\"Y:\", y)"
   ]
  },
  {
   "cell_type": "markdown",
   "id": "4b21d616",
   "metadata": {},
   "source": [
    "# STEP 4: SPLIT THE DATA INTO TRAIN, VALIDATION, AND TEST"
   ]
  },
  {
   "cell_type": "code",
   "execution_count": 5,
   "id": "0ff1c52d",
   "metadata": {},
   "outputs": [
    {
     "name": "stdout",
     "output_type": "stream",
     "text": [
      "690\n",
      "87\n",
      "86\n"
     ]
    }
   ],
   "source": [
    "xTrain, x_temp, yTrain, y_temp = train_test_split(x,y,train_size=0.8, random_state= 4)\n",
    "xTest, xValidation, yTest, yValidation =  train_test_split(x_temp,y_temp,train_size=0.50, random_state= 4)\n",
    "print(len(xTrain))\n",
    "print(len(xValidation))\n",
    "print(len(xTest))"
   ]
  },
  {
   "cell_type": "markdown",
   "id": "6e13c7b6",
   "metadata": {},
   "source": [
    "# STEP 5: TUNE THE HYPERPARAMETER"
   ]
  },
  {
   "cell_type": "code",
   "execution_count": 6,
   "id": "56f7ae26",
   "metadata": {},
   "outputs": [
    {
     "name": "stdout",
     "output_type": "stream",
     "text": [
      "Accuracy 0.8735632183908046\n",
      "Accuracy 0.896551724137931\n",
      "Accuracy 0.9080459770114943\n",
      "Accuracy 0.9080459770114943\n",
      "Accuracy 0.9080459770114943\n",
      "Accuracy 0.9080459770114943\n",
      "Accuracy 0.9080459770114943\n",
      "Accuracy 0.9080459770114943\n",
      "Accuracy 0.9195402298850575\n"
     ]
    }
   ],
   "source": [
    "modelAccuracy = [];\n",
    "for i in range(1,10):\n",
    "    # instantiate the model (using the default parameters)\n",
    "    SupportVectorMachine = svm.SVC(C=i, class_weight='balanced')\n",
    "    # fit the model with data\n",
    "    SupportVectorMachine.fit(xTrain,yTrain)\n",
    "\n",
    "    #Predict the response for validation dataset\n",
    "    y_pred=SupportVectorMachine.predict(xValidation)\n",
    "\n",
    "    #Accuracy of Predict\n",
    "    modelAccuracy.append(metrics.accuracy_score(yValidation, y_pred))\n",
    "    print (\"Accuracy\", metrics.accuracy_score(yValidation, y_pred))"
   ]
  },
  {
   "cell_type": "markdown",
   "id": "a79bf302",
   "metadata": {},
   "source": [
    "# STEP 6: FIND THE HYPERPARAMETER VALUE WITH HIGHEST ACCURACY"
   ]
  },
  {
   "cell_type": "code",
   "execution_count": 7,
   "id": "69693920",
   "metadata": {},
   "outputs": [
    {
     "name": "stdout",
     "output_type": "stream",
     "text": [
      "9\n"
     ]
    }
   ],
   "source": [
    "bestAccuracy = max(modelAccuracy)\n",
    "optimalC = modelAccuracy.index(bestAccuracy)+1\n",
    "print(optimalC)"
   ]
  },
  {
   "cell_type": "markdown",
   "id": "159ae9e8",
   "metadata": {},
   "source": [
    "# STEP 7: TRAIN THE MODEL AND VALIDATE IT"
   ]
  },
  {
   "cell_type": "code",
   "execution_count": 8,
   "id": "c1c5179b",
   "metadata": {},
   "outputs": [
    {
     "name": "stdout",
     "output_type": "stream",
     "text": [
      "[0. 0. 0. 0. 0. 0. 0. 0. 0. 1. 0. 0. 0. 0. 0. 0. 0. 0. 0. 0. 0. 1. 0. 0.\n",
      " 0. 0. 0. 1. 0. 1. 0. 0. 0. 0. 0. 0. 1. 0. 0. 0. 0. 0. 0. 0. 0. 0. 0. 0.\n",
      " 0. 1. 0. 1. 0. 0. 0. 0. 0. 0. 0. 0. 0. 0. 0. 0. 0. 0. 0. 0. 0. 0. 0. 0.\n",
      " 0. 0. 0. 0. 0. 0. 0. 0. 0. 0. 0. 1. 0. 0. 1.]\n",
      "Accuracy 0.9540229885057471\n"
     ]
    }
   ],
   "source": [
    "clf = svm.SVC(C=optimalC)\n",
    "\n",
    "# Train Decision Tree Classifer\n",
    "clf = clf.fit(xTrain,yTrain)\n",
    "\n",
    "#Predict the response for validation dataset\n",
    "y_pred = clf.predict(xValidation)         \n",
    "print(y_pred)\n",
    "print (\"Accuracy\", metrics.accuracy_score(yValidation, y_pred))"
   ]
  },
  {
   "cell_type": "markdown",
   "id": "b0e942e3",
   "metadata": {},
   "source": [
    "# STEP 8: CALCULATING THE PERFORMANCE METRICS"
   ]
  },
  {
   "cell_type": "code",
   "execution_count": 9,
   "id": "a64099b0",
   "metadata": {},
   "outputs": [
    {
     "name": "stdout",
     "output_type": "stream",
     "text": [
      "Precision: 0.800000\n",
      "Recall: 0.888889\n",
      "F1 score: 0.842105\n",
      "ROC AUC: 0.931457\n"
     ]
    },
    {
     "name": "stderr",
     "output_type": "stream",
     "text": [
      "C:\\Users\\UNiversal ADV\\miniconda3\\envs\\mlpr\\lib\\site-packages\\sklearn\\utils\\deprecation.py:87: FutureWarning: Function plot_confusion_matrix is deprecated; Function `plot_confusion_matrix` is deprecated in 1.0 and will be removed in 1.2. Use one of the class methods: ConfusionMatrixDisplay.from_predictions or ConfusionMatrixDisplay.from_estimator.\n",
      "  warnings.warn(msg, category=FutureWarning)\n"
     ]
    },
    {
     "data": {
      "text/plain": "<Figure size 432x288 with 2 Axes>",
      "image/png": "[encoded data removed]"
     },
     "metadata": {
      "needs_background": "light"
     },
     "output_type": "display_data"
    }
   ],
   "source": [
    "y_pred = clf.predict(xTest) \n",
    "precision = precision_score(yTest, y_pred)\n",
    "print('Precision: %f' % precision)\n",
    "recall = recall_score(yTest, y_pred)\n",
    "print('Recall: %f' % recall)\n",
    "f1 = f1_score(yTest, y_pred)\n",
    "print('F1 score: %f' % f1)\n",
    "auc = roc_auc_score(yTest, y_pred)\n",
    "print('ROC AUC: %f' % auc)\n",
    "plot_confusion_matrix(clf, xTest, yTest)\n",
    "plt.show()"
   ]
  },
  {
   "cell_type": "markdown",
   "id": "dfe81a99",
   "metadata": {},
   "source": [
    "# STEP 9: GRAPHING THE ROC CURVE"
   ]
  },
  {
   "cell_type": "code",
   "execution_count": 10,
   "id": "a32fccde",
   "metadata": {},
   "outputs": [
    {
     "data": {
      "text/plain": "<Figure size 432x288 with 1 Axes>",
      "image/png": "[encoded data removed]"
     },
     "metadata": {
      "needs_background": "light"
     },
     "output_type": "display_data"
    }
   ],
   "source": [
    "fpr, tpr, threshold = metrics.roc_curve(yTest, y_pred)\n",
    "fpr, tpr, _ = metrics.roc_curve(yTest,  y_pred)\n",
    "auc = metrics.roc_auc_score(yTest, y_pred)\n",
    "\n",
    "plt.plot(fpr,tpr,label=\"AUC=\"+str(auc))\n",
    "plt.ylabel('True Positive Rate')\n",
    "plt.xlabel('False Positive Rate')\n",
    "plt.legend(loc=4)\n",
    "plt.show()"
   ]
  },
  {
   "cell_type": "code",
   "execution_count": 10,
   "id": "fde7b183",
   "metadata": {},
   "outputs": [],
   "source": []
  }
 ],
 "metadata": {
  "kernelspec": {
   "display_name": "Python 3 (ipykernel)",
   "language": "python",
   "name": "python3"
  },
  "language_info": {
   "codemirror_mode": {
    "name": "ipython",
    "version": 3
   },
   "file_extension": ".py",
   "mimetype": "text/x-python",
   "name": "python",
   "nbconvert_exporter": "python",
   "pygments_lexer": "ipython3",
   "version": "3.9.7"
  }
 },
 "nbformat": 4,
 "nbformat_minor": 5
}