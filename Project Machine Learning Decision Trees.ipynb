{
 "cells": [
  {
   "cell_type": "code",
   "execution_count": 15,
   "id": "4b865425",
   "metadata": {},
   "outputs": [],
   "source": [
    "from sklearn.linear_model import LinearRegression\n",
    "from sklearn.preprocessing import PolynomialFeatures\n",
    "from sklearn.model_selection import train_test_split\n",
    "from sklearn.preprocessing import MinMaxScaler\n",
    "from sklearn.tree import DecisionTreeClassifier\n",
    "from sklearn import model_selection  \n",
    "from sklearn import metrics\n",
    "from sklearn.metrics import f1_score, precision_score, recall_score, roc_auc_score, classification_report, confusion_matrix, plot_confusion_matrix\n",
    "from sklearn.tree import export_graphviz\n",
    "from six import StringIO  \n",
    "from IPython.display import Image  \n",
    "import pydotplus\n",
    "import random\n",
    "import numpy as np\n",
    "import random\n",
    "import pickle\n",
    "import pandas as pd\n",
    "import matplotlib.pyplot as plt"
   ]
  },
  {
   "cell_type": "markdown",
   "id": "e77556ac",
   "metadata": {},
   "source": [
    "# STEP 1: LOADING THE DATASET AND PRINTING IT"
   ]
  },
  {
   "cell_type": "code",
   "execution_count": 16,
   "id": "e1a04076",
   "metadata": {},
   "outputs": [
    {
     "name": "stdout",
     "output_type": "stream",
     "text": [
      "     Unnamed: 0  location  country  gender   age  vis_wuhan  from_wuhan  \\\n",
      "0             0       104        8       1  66.0          1           0   \n",
      "1             1       101        8       0  56.0          0           1   \n",
      "2             2       137        8       1  46.0          0           1   \n",
      "3             3       116        8       0  60.0          1           0   \n",
      "4             4       116        8       1  58.0          0           0   \n",
      "..          ...       ...      ...     ...   ...        ...         ...   \n",
      "858         858        48        3       2  24.0          0           0   \n",
      "859         859         0        0       2  35.0          0           0   \n",
      "860         860         3        1       1  49.4          0           0   \n",
      "861         861        24        9       1  49.4          0           0   \n",
      "862         862        15       27       1  70.0          0           0   \n",
      "\n",
      "     symptom1  symptom2  symptom3  symptom4  symptom5  symptom6  diff_sym_hos  \\\n",
      "0          14        31        19        12         3         1             8   \n",
      "1          14        31        19        12         3         1             0   \n",
      "2          14        31        19        12         3         1            13   \n",
      "3          14        31        19        12         3         1             0   \n",
      "4          14        31        19        12         3         1             0   \n",
      "..        ...       ...       ...       ...       ...       ...           ...   \n",
      "858        14        31        19        12         3         1             0   \n",
      "859        14        31        19        12         3         1             0   \n",
      "860        14        31        19        12         3         1             0   \n",
      "861        14        31        19        12         3         1             0   \n",
      "862        14        31        19        12         3         1             0   \n",
      "\n",
      "     result  \n",
      "0         1  \n",
      "1         0  \n",
      "2         0  \n",
      "3         0  \n",
      "4         0  \n",
      "..      ...  \n",
      "858       1  \n",
      "859       0  \n",
      "860       0  \n",
      "861       0  \n",
      "862       0  \n",
      "\n",
      "[863 rows x 15 columns]\n"
     ]
    }
   ],
   "source": [
    "dataSet = pd.read_csv(\"data.csv\")\n",
    "print (dataSet)"
   ]
  },
  {
   "cell_type": "code",
   "execution_count": 17,
   "id": "1ba6d2fb",
   "metadata": {},
   "outputs": [
    {
     "name": "stdout",
     "output_type": "stream",
     "text": [
      "     Unnamed: 0   age  vis_wuhan  from_wuhan  diff_sym_hos  location_0  \\\n",
      "0             0  66.0          1           0             8           0   \n",
      "1             1  56.0          0           1             0           0   \n",
      "2             2  46.0          0           1            13           0   \n",
      "3             3  60.0          1           0             0           0   \n",
      "4             4  58.0          0           0             0           0   \n",
      "..          ...   ...        ...         ...           ...         ...   \n",
      "858         858  24.0          0           0             0           0   \n",
      "859         859  35.0          0           0             0           1   \n",
      "860         860  49.4          0           0             0           0   \n",
      "861         861  49.4          0           0             0           0   \n",
      "862         862  70.0          0           0             0           0   \n",
      "\n",
      "     location_1  location_2  location_3  location_4  ...  symptom4_10  \\\n",
      "0             0           0           0           0  ...            0   \n",
      "1             0           0           0           0  ...            0   \n",
      "2             0           0           0           0  ...            0   \n",
      "3             0           0           0           0  ...            0   \n",
      "4             0           0           0           0  ...            0   \n",
      "..          ...         ...         ...         ...  ...          ...   \n",
      "858           0           0           0           0  ...            0   \n",
      "859           0           0           0           0  ...            0   \n",
      "860           0           0           1           0  ...            0   \n",
      "861           0           0           0           0  ...            0   \n",
      "862           0           0           0           0  ...            0   \n",
      "\n",
      "     symptom4_11  symptom4_12  symptom5_0  symptom5_1  symptom5_2  symptom5_3  \\\n",
      "0              0            1           0           0           0           1   \n",
      "1              0            1           0           0           0           1   \n",
      "2              0            1           0           0           0           1   \n",
      "3              0            1           0           0           0           1   \n",
      "4              0            1           0           0           0           1   \n",
      "..           ...          ...         ...         ...         ...         ...   \n",
      "858            0            1           0           0           0           1   \n",
      "859            0            1           0           0           0           1   \n",
      "860            0            1           0           0           0           1   \n",
      "861            0            1           0           0           0           1   \n",
      "862            0            1           0           0           0           1   \n",
      "\n",
      "     symptom6_0  symptom6_1  result  \n",
      "0             0           1       1  \n",
      "1             0           1       0  \n",
      "2             0           1       0  \n",
      "3             0           1       0  \n",
      "4             0           1       0  \n",
      "..          ...         ...     ...  \n",
      "858           0           1       1  \n",
      "859           0           1       0  \n",
      "860           0           1       0  \n",
      "861           0           1       0  \n",
      "862           0           1       0  \n",
      "\n",
      "[863 rows x 278 columns]\n"
     ]
    }
   ],
   "source": [
    "one_hot_encoded_data = pd.get_dummies(dataSet, columns = ['location', 'country', 'gender', 'symptom1', 'symptom2', 'symptom3', 'symptom4', 'symptom5', 'symptom6'])\n",
    "df = pd.DataFrame(one_hot_encoded_data)\n",
    "first_column = df.pop('result')\n",
    "df.insert(277, 'result', first_column)\n",
    "print(df)"
   ]
  },
  {
   "cell_type": "markdown",
   "id": "a5b16af1",
   "metadata": {},
   "source": [
    "# STEP 2: SCALE THE FEATURES AND SPLIT THE DATASET INTO X & Y"
   ]
  },
  {
   "cell_type": "code",
   "execution_count": 18,
   "id": "56f91ed8",
   "metadata": {},
   "outputs": [
    {
     "name": "stdout",
     "output_type": "stream",
     "text": [
      "X: [[0.68085106 1.         0.         ... 0.         1.         0.        ]\n",
      " [0.57446809 0.         1.         ... 0.         1.         0.        ]\n",
      " [0.46808511 0.         1.         ... 0.         1.         0.        ]\n",
      " ...\n",
      " [0.50425532 0.         0.         ... 0.         1.         0.        ]\n",
      " [0.50425532 0.         0.         ... 0.         1.         0.        ]\n",
      " [0.72340426 0.         0.         ... 0.         1.         0.        ]]\n",
      "Y: [1. 0. 0. 0. 0. 0. 0. 0. 0. 0. 0. 0. 0. 0. 1. 0. 0. 0. 0. 0. 0. 0. 0. 0.\n",
      " 0. 0. 0. 0. 0. 0. 0. 0. 1. 0. 1. 0. 0. 0. 0. 0. 0. 0. 0. 0. 0. 0. 0. 0.\n",
      " 0. 0. 0. 0. 0. 0. 0. 0. 0. 0. 0. 0. 0. 0. 0. 0. 0. 0. 0. 0. 0. 0. 0. 0.\n",
      " 0. 0. 0. 0. 0. 0. 0. 0. 0. 0. 0. 0. 0. 0. 0. 0. 0. 0. 0. 0. 0. 0. 0. 0.\n",
      " 0. 0. 0. 0. 0. 0. 0. 0. 1. 0. 0. 0. 0. 0. 0. 0. 1. 0. 0. 0. 0. 0. 0. 0.\n",
      " 1. 0. 0. 0. 1. 0. 0. 0. 1. 1. 0. 0. 0. 0. 0. 1. 0. 0. 0. 0. 0. 1. 0. 0.\n",
      " 0. 0. 0. 1. 0. 0. 0. 0. 0. 0. 0. 0. 0. 0. 0. 0. 0. 0. 0. 0. 0. 0. 0. 0.\n",
      " 0. 0. 0. 0. 0. 0. 0. 0. 0. 0. 0. 0. 0. 0. 0. 0. 0. 0. 0. 0. 0. 0. 0. 0.\n",
      " 0. 0. 1. 0. 0. 0. 0. 0. 0. 0. 0. 0. 0. 0. 0. 0. 0. 0. 0. 0. 0. 0. 0. 1.\n",
      " 0. 0. 1. 0. 1. 0. 0. 0. 0. 0. 0. 0. 0. 0. 0. 0. 0. 0. 0. 1. 0. 0. 0. 0.\n",
      " 0. 0. 0. 0. 0. 1. 1. 0. 0. 1. 1. 1. 1. 1. 0. 0. 0. 0. 0. 1. 0. 0. 1. 1.\n",
      " 0. 0. 0. 1. 0. 0. 0. 1. 1. 0. 0. 0. 0. 0. 0. 0. 0. 0. 0. 0. 0. 0. 1. 0.\n",
      " 1. 0. 0. 0. 0. 1. 0. 1. 0. 0. 0. 0. 0. 0. 0. 0. 0. 0. 0. 0. 0. 0. 0. 0.\n",
      " 0. 0. 0. 0. 0. 0. 0. 0. 0. 0. 0. 0. 0. 1. 1. 0. 0. 0. 0. 1. 1. 1. 0. 0.\n",
      " 1. 1. 0. 0. 0. 0. 0. 0. 0. 0. 0. 0. 1. 1. 0. 0. 0. 0. 0. 1. 0. 1. 0. 0.\n",
      " 0. 0. 0. 0. 0. 0. 0. 0. 0. 0. 1. 0. 0. 0. 0. 0. 0. 0. 0. 0. 1. 0. 0. 0.\n",
      " 0. 0. 0. 0. 0. 0. 0. 0. 0. 0. 1. 0. 0. 0. 0. 0. 0. 0. 0. 0. 0. 0. 0. 0.\n",
      " 0. 0. 1. 0. 1. 0. 0. 0. 0. 0. 0. 1. 0. 0. 0. 0. 0. 0. 0. 0. 0. 1. 0. 0.\n",
      " 1. 0. 0. 0. 0. 0. 0. 0. 0. 0. 0. 0. 0. 0. 0. 0. 0. 0. 0. 0. 0. 0. 0. 0.\n",
      " 0. 0. 0. 0. 0. 0. 0. 0. 0. 0. 0. 0. 0. 0. 0. 0. 0. 0. 0. 0. 0. 0. 0. 1.\n",
      " 0. 0. 0. 0. 0. 0. 0. 0. 0. 0. 0. 0. 0. 0. 0. 0. 0. 0. 0. 0. 0. 0. 1. 0.\n",
      " 0. 0. 0. 0. 1. 0. 0. 1. 0. 0. 0. 0. 0. 1. 0. 0. 1. 0. 1. 0. 0. 0. 0. 0.\n",
      " 0. 0. 0. 0. 0. 0. 0. 1. 0. 0. 0. 0. 0. 0. 0. 0. 0. 0. 0. 0. 0. 0. 0. 0.\n",
      " 0. 0. 0. 0. 0. 0. 0. 0. 0. 0. 0. 0. 0. 0. 0. 0. 0. 0. 0. 0. 0. 0. 0. 0.\n",
      " 1. 1. 1. 1. 1. 1. 1. 0. 1. 1. 1. 0. 0. 0. 0. 0. 0. 0. 0. 0. 0. 1. 0. 0.\n",
      " 0. 0. 0. 0. 0. 0. 0. 0. 0. 0. 0. 0. 0. 0. 0. 0. 0. 0. 0. 0. 0. 0. 0. 0.\n",
      " 0. 0. 0. 0. 0. 0. 0. 0. 0. 0. 0. 0. 0. 0. 0. 0. 0. 0. 0. 0. 0. 0. 0. 0.\n",
      " 0. 0. 0. 0. 0. 0. 0. 0. 0. 0. 0. 1. 0. 0. 0. 0. 0. 0. 0. 0. 0. 0. 0. 0.\n",
      " 0. 0. 0. 1. 0. 0. 0. 1. 1. 0. 0. 1. 0. 0. 0. 0. 1. 0. 0. 0. 0. 1. 1. 0.\n",
      " 1. 0. 0. 0. 0. 0. 0. 0. 1. 0. 1. 0. 1. 0. 1. 0. 0. 0. 1. 0. 0. 0. 0. 0.\n",
      " 0. 0. 1. 0. 0. 0. 0. 1. 1. 1. 1. 1. 0. 0. 0. 1. 1. 1. 1. 1. 0. 0. 1. 0.\n",
      " 0. 0. 0. 0. 0. 0. 1. 0. 0. 0. 1. 0. 0. 1. 1. 0. 0. 0. 0. 0. 0. 0. 0. 0.\n",
      " 0. 0. 0. 0. 0. 0. 0. 0. 0. 0. 0. 0. 0. 1. 0. 0. 0. 0. 0. 0. 0. 0. 0. 0.\n",
      " 0. 1. 0. 0. 0. 0. 0. 0. 0. 0. 0. 0. 0. 0. 0. 0. 0. 0. 0. 1. 0. 0. 0. 0.\n",
      " 0. 0. 0. 0. 0. 0. 0. 0. 0. 0. 0. 0. 0. 0. 0. 0. 0. 0. 0. 0. 0. 0. 0. 0.\n",
      " 0. 0. 0. 0. 0. 0. 0. 0. 0. 0. 0. 0. 0. 0. 0. 0. 0. 1. 1. 0. 0. 0. 0.]\n"
     ]
    }
   ],
   "source": [
    "scaler = MinMaxScaler()\n",
    "# transform data\n",
    "scaled = scaler.fit_transform(df)\n",
    "x = scaled[0:864, 1:276]\n",
    "y = scaled[0:864, 277]\n",
    "print(\"X:\", x)\n",
    "print(\"Y:\", y)"
   ]
  },
  {
   "cell_type": "markdown",
   "id": "ed89d228",
   "metadata": {},
   "source": [
    "# STEP 3: SPLIT THE DATA INTO TRAIN, VALIDATION, AND TEST"
   ]
  },
  {
   "cell_type": "code",
   "execution_count": 19,
   "id": "423bf94d",
   "metadata": {},
   "outputs": [
    {
     "name": "stdout",
     "output_type": "stream",
     "text": [
      "517\n",
      "173\n",
      "173\n"
     ]
    }
   ],
   "source": [
    "x_temp, xTest, y_temp, yTest = train_test_split(x,y,train_size=0.8, random_state=5 ,shuffle=True)\n",
    "xTrain, xValidation, yTrain, yValidation =  train_test_split(x_temp,y_temp,train_size=0.75, random_state=5 ,shuffle=True)\n",
    "print(len(xTrain))\n",
    "print(len(xValidation))\n",
    "print(len(xTest))"
   ]
  },
  {
   "cell_type": "markdown",
   "id": "e13f6737",
   "metadata": {},
   "source": [
    "# STEP 4: TRAIN THE MODEL AND VALIDATE IT"
   ]
  },
  {
   "cell_type": "code",
   "execution_count": 20,
   "id": "622c5565",
   "metadata": {
    "scrolled": true
   },
   "outputs": [
    {
     "name": "stdout",
     "output_type": "stream",
     "text": [
      "[0. 0. 0. 1. 0. 0. 0. 0. 0. 0. 0. 0. 0. 0. 0. 0. 0. 0. 0. 0. 0. 0. 0. 1.\n",
      " 0. 0. 0. 0. 0. 0. 0. 0. 0. 1. 0. 0. 0. 0. 0. 0. 0. 1. 0. 0. 0. 0. 0. 0.\n",
      " 0. 0. 0. 0. 0. 0. 0. 0. 0. 0. 0. 0. 0. 0. 0. 0. 0. 0. 0. 0. 0. 0. 0. 0.\n",
      " 0. 1. 0. 0. 0. 0. 0. 0. 0. 1. 0. 0. 0. 0. 0. 0. 0. 1. 0. 1. 1. 1. 0. 0.\n",
      " 0. 0. 0. 0. 0. 0. 0. 0. 0. 0. 0. 0. 0. 1. 0. 0. 0. 0. 0. 1. 0. 0. 0. 0.\n",
      " 0. 0. 0. 0. 0. 0. 0. 0. 0. 0. 0. 0. 1. 0. 1. 0. 0. 0. 0. 0. 1. 0. 0. 0.\n",
      " 0. 0. 0. 0. 0. 0. 0. 0. 0. 0. 0. 0. 1. 0. 0. 0. 0. 0. 0. 0. 0. 0. 0. 0.\n",
      " 0. 0. 0. 1. 0.]\n",
      "Accuracy 0.9479768786127167\n"
     ]
    }
   ],
   "source": [
    "clf = DecisionTreeClassifier(criterion=\"entropy\")\n",
    "\n",
    "# Train Decision Tree Classifer\n",
    "clf = clf.fit(xTrain,yTrain)\n",
    "\n",
    "#Predict the response for validation dataset\n",
    "y_pred = clf.predict(xValidation)         \n",
    "print(y_pred)\n",
    "print (\"Accuracy\", metrics.accuracy_score(yValidation, y_pred))"
   ]
  },
  {
   "cell_type": "markdown",
   "id": "09d7b490",
   "metadata": {},
   "source": [
    "# STEP 5: SHOW THE DECISION TREE"
   ]
  },
  {
   "cell_type": "code",
   "execution_count": 21,
   "id": "af2936c5",
   "metadata": {},
   "outputs": [
    {
     "ename": "InvocationException",
     "evalue": "Program terminated with status: 1. stderr follows: 'C:\\Users\\UNiversal' is not recognized as an internal or external command,\r\noperable program or batch file.\r\n",
     "output_type": "error",
     "traceback": [
      "\u001B[1;31m---------------------------------------------------------------------------\u001B[0m",
      "\u001B[1;31mInvocationException\u001B[0m                       Traceback (most recent call last)",
      "\u001B[1;32mC:\\Users\\UNIVER~1\\AppData\\Local\\Temp/ipykernel_420/3700096171.py\u001B[0m in \u001B[0;36m<module>\u001B[1;34m\u001B[0m\n\u001B[0;32m      4\u001B[0m                 special_characters=True,feature_names = scaled[0,1:276],class_names=['0','1'])\n\u001B[0;32m      5\u001B[0m \u001B[0mgraph\u001B[0m \u001B[1;33m=\u001B[0m \u001B[0mpydotplus\u001B[0m\u001B[1;33m.\u001B[0m\u001B[0mgraph_from_dot_data\u001B[0m\u001B[1;33m(\u001B[0m\u001B[0mdot_data\u001B[0m\u001B[1;33m.\u001B[0m\u001B[0mgetvalue\u001B[0m\u001B[1;33m(\u001B[0m\u001B[1;33m)\u001B[0m\u001B[1;33m)\u001B[0m\u001B[1;33m\u001B[0m\u001B[1;33m\u001B[0m\u001B[0m\n\u001B[1;32m----> 6\u001B[1;33m \u001B[0mgraph\u001B[0m\u001B[1;33m.\u001B[0m\u001B[0mwrite_png\u001B[0m\u001B[1;33m(\u001B[0m\u001B[1;34m\"Covid-19.png\"\u001B[0m\u001B[1;33m)\u001B[0m\u001B[1;33m\u001B[0m\u001B[1;33m\u001B[0m\u001B[0m\n\u001B[0m\u001B[0;32m      7\u001B[0m \u001B[0mImage\u001B[0m\u001B[1;33m(\u001B[0m\u001B[0mgraph\u001B[0m\u001B[1;33m.\u001B[0m\u001B[0mcreate_png\u001B[0m\u001B[1;33m(\u001B[0m\u001B[1;33m)\u001B[0m\u001B[1;33m)\u001B[0m\u001B[1;33m\u001B[0m\u001B[1;33m\u001B[0m\u001B[0m\n",
      "\u001B[1;32m~\\miniconda3\\envs\\mlpr\\lib\\site-packages\\pydotplus\\graphviz.py\u001B[0m in \u001B[0;36m<lambda>\u001B[1;34m(path, f, prog)\u001B[0m\n\u001B[0;32m   1802\u001B[0m                 \u001B[1;32mlambda\u001B[0m \u001B[0mpath\u001B[0m\u001B[1;33m,\u001B[0m\u001B[1;33m\u001B[0m\u001B[1;33m\u001B[0m\u001B[0m\n\u001B[0;32m   1803\u001B[0m                 \u001B[0mf\u001B[0m\u001B[1;33m=\u001B[0m\u001B[0mfrmt\u001B[0m\u001B[1;33m,\u001B[0m\u001B[1;33m\u001B[0m\u001B[1;33m\u001B[0m\u001B[0m\n\u001B[1;32m-> 1804\u001B[1;33m                 \u001B[0mprog\u001B[0m\u001B[1;33m=\u001B[0m\u001B[0mself\u001B[0m\u001B[1;33m.\u001B[0m\u001B[0mprog\u001B[0m\u001B[1;33m:\u001B[0m \u001B[0mself\u001B[0m\u001B[1;33m.\u001B[0m\u001B[0mwrite\u001B[0m\u001B[1;33m(\u001B[0m\u001B[0mpath\u001B[0m\u001B[1;33m,\u001B[0m \u001B[0mformat\u001B[0m\u001B[1;33m=\u001B[0m\u001B[0mf\u001B[0m\u001B[1;33m,\u001B[0m \u001B[0mprog\u001B[0m\u001B[1;33m=\u001B[0m\u001B[0mprog\u001B[0m\u001B[1;33m)\u001B[0m\u001B[1;33m\u001B[0m\u001B[1;33m\u001B[0m\u001B[0m\n\u001B[0m\u001B[0;32m   1805\u001B[0m             )\n\u001B[0;32m   1806\u001B[0m \u001B[1;33m\u001B[0m\u001B[0m\n",
      "\u001B[1;32m~\\miniconda3\\envs\\mlpr\\lib\\site-packages\\pydotplus\\graphviz.py\u001B[0m in \u001B[0;36mwrite\u001B[1;34m(self, path, prog, format)\u001B[0m\n\u001B[0;32m   1910\u001B[0m \u001B[1;33m\u001B[0m\u001B[0m\n\u001B[0;32m   1911\u001B[0m             \u001B[1;32melse\u001B[0m\u001B[1;33m:\u001B[0m\u001B[1;33m\u001B[0m\u001B[1;33m\u001B[0m\u001B[0m\n\u001B[1;32m-> 1912\u001B[1;33m                 \u001B[0mfobj\u001B[0m\u001B[1;33m.\u001B[0m\u001B[0mwrite\u001B[0m\u001B[1;33m(\u001B[0m\u001B[0mself\u001B[0m\u001B[1;33m.\u001B[0m\u001B[0mcreate\u001B[0m\u001B[1;33m(\u001B[0m\u001B[0mprog\u001B[0m\u001B[1;33m,\u001B[0m \u001B[0mformat\u001B[0m\u001B[1;33m)\u001B[0m\u001B[1;33m)\u001B[0m\u001B[1;33m\u001B[0m\u001B[1;33m\u001B[0m\u001B[0m\n\u001B[0m\u001B[0;32m   1913\u001B[0m         \u001B[1;32mfinally\u001B[0m\u001B[1;33m:\u001B[0m\u001B[1;33m\u001B[0m\u001B[1;33m\u001B[0m\u001B[0m\n\u001B[0;32m   1914\u001B[0m             \u001B[1;32mif\u001B[0m \u001B[0mclose\u001B[0m\u001B[1;33m:\u001B[0m\u001B[1;33m\u001B[0m\u001B[1;33m\u001B[0m\u001B[0m\n",
      "\u001B[1;32m~\\miniconda3\\envs\\mlpr\\lib\\site-packages\\pydotplus\\graphviz.py\u001B[0m in \u001B[0;36mcreate\u001B[1;34m(self, prog, format)\u001B[0m\n\u001B[0;32m   2022\u001B[0m \u001B[1;33m\u001B[0m\u001B[0m\n\u001B[0;32m   2023\u001B[0m         \u001B[1;32mif\u001B[0m \u001B[0mstatus\u001B[0m \u001B[1;33m!=\u001B[0m \u001B[1;36m0\u001B[0m\u001B[1;33m:\u001B[0m\u001B[1;33m\u001B[0m\u001B[1;33m\u001B[0m\u001B[0m\n\u001B[1;32m-> 2024\u001B[1;33m             raise InvocationException(\n\u001B[0m\u001B[0;32m   2025\u001B[0m                 'Program terminated with status: %d. stderr follows: %s' % (\n\u001B[0;32m   2026\u001B[0m                     status, stderr_output))\n",
      "\u001B[1;31mInvocationException\u001B[0m: Program terminated with status: 1. stderr follows: 'C:\\Users\\UNiversal' is not recognized as an internal or external command,\r\noperable program or batch file.\r\n"
     ]
    }
   ],
   "source": [
    "dot_data = StringIO()\n",
    "export_graphviz(clf, out_file=dot_data,  \n",
    "                filled=True, rounded=True,\n",
    "                special_characters=True,feature_names = scaled[0,1:276],class_names=['0','1'])\n",
    "graph = pydotplus.graph_from_dot_data(dot_data.getvalue())  \n",
    "graph.write_png(\"Covid-19.png\")\n",
    "Image(graph.create_png())"
   ]
  },
  {
   "cell_type": "markdown",
   "id": "5d0870d6",
   "metadata": {},
   "source": [
    "# STEP 6: MEASURE ACCURACY ON TEST DATA"
   ]
  },
  {
   "cell_type": "code",
   "execution_count": null,
   "id": "26fe17fc",
   "metadata": {},
   "outputs": [],
   "source": [
    "print(clf.score(xTest, yTest))"
   ]
  },
  {
   "cell_type": "markdown",
   "id": "f5608b1f",
   "metadata": {},
   "source": [
    "# STEP 7: CALCULATING THE PERFORMANCE METRICS"
   ]
  },
  {
   "cell_type": "code",
   "execution_count": null,
   "id": "486d081f",
   "metadata": {},
   "outputs": [],
   "source": [
    "precision = precision_score(yTest, y_pred)\n",
    "print('Precision: %f' % precision)\n",
    "recall = recall_score(yTest, y_pred)\n",
    "print('Recall: %f' % recall)\n",
    "f1 = f1_score(yTest, y_pred)\n",
    "print('F1 score: %f' % f1)\n",
    "auc = roc_auc_score(yTest, y_pred)\n",
    "print('ROC AUC: %f' % auc)\n",
    "plot_confusion_matrix(clf, xTest, yTest)\n",
    "plt.show()"
   ]
  },
  {
   "cell_type": "markdown",
   "id": "1426c3b0",
   "metadata": {},
   "source": [
    "# STEP 8: GRAPHING THE ROC CURVE"
   ]
  },
  {
   "cell_type": "code",
   "execution_count": null,
   "id": "c1e48c4d",
   "metadata": {},
   "outputs": [],
   "source": [
    "fpr, tpr, threshold = metrics.roc_curve(yTest, y_pred)\n",
    "roc_auc = metrics.auc(fpr, tpr)\n",
    "\n",
    "\n",
    "plt.title('Receiver Operating Characteristic')\n",
    "plt.plot(fpr, tpr, 'b', label = 'AUC = %0.2f' % roc_auc)\n",
    "plt.legend(loc = 'lower right')\n",
    "plt.plot([0, 1], [0, 1],'r--')\n",
    "plt.xlim([0, 1])\n",
    "plt.ylim([0, 1])\n",
    "plt.ylabel('True Positive Rate')\n",
    "plt.xlabel('False Positive Rate')\n",
    "plt.show()"
   ]
  },
  {
   "cell_type": "code",
   "execution_count": null,
   "id": "27b007e5",
   "metadata": {},
   "outputs": [],
   "source": []
  }
 ],
 "metadata": {
  "kernelspec": {
   "display_name": "Python 3 (ipykernel)",
   "language": "python",
   "name": "python3"
  },
  "language_info": {
   "codemirror_mode": {
    "name": "ipython",
    "version": 3
   },
   "file_extension": ".py",
   "mimetype": "text/x-python",
   "name": "python",
   "nbconvert_exporter": "python",
   "pygments_lexer": "ipython3",
   "version": "3.9.7"
  }
 },
 "nbformat": 4,
 "nbformat_minor": 5
}