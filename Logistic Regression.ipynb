{
 "cells": [
  {
   "cell_type": "code",
   "execution_count": 12,
   "id": "dd814c30",
   "metadata": {},
   "outputs": [],
   "source": [
    "from sklearn.model_selection import train_test_split\n",
    "from sklearn.preprocessing import MinMaxScaler\n",
    "from sklearn.linear_model import LogisticRegression\n",
    "from sklearn import model_selection  \n",
    "from sklearn import metrics\n",
    "from sklearn.metrics import f1_score, precision_score, recall_score, roc_auc_score, classification_report, confusion_matrix, plot_confusion_matrix\n",
    "import random\n",
    "import numpy as np\n",
    "import random\n",
    "import pickle\n",
    "import pandas as pd\n",
    "import matplotlib.pyplot as plt"
   ]
  },
  {
   "cell_type": "markdown",
   "id": "d91de441",
   "metadata": {},
   "source": [
    "# STEP 1: LOADING THE DATASET AND PRINTING IT"
   ]
  },
  {
   "cell_type": "code",
   "execution_count": 13,
   "id": "7cde6122",
   "metadata": {},
   "outputs": [
    {
     "name": "stdout",
     "output_type": "stream",
     "text": [
      "     Unnamed: 0  location  country  gender   age  vis_wuhan  from_wuhan  \\\n",
      "0             0       104        8       1  66.0          1           0   \n",
      "1             1       101        8       0  56.0          0           1   \n",
      "2             2       137        8       1  46.0          0           1   \n",
      "3             3       116        8       0  60.0          1           0   \n",
      "4             4       116        8       1  58.0          0           0   \n",
      "..          ...       ...      ...     ...   ...        ...         ...   \n",
      "858         858        48        3       2  24.0          0           0   \n",
      "859         859         0        0       2  35.0          0           0   \n",
      "860         860         3        1       1  49.4          0           0   \n",
      "861         861        24        9       1  49.4          0           0   \n",
      "862         862        15       27       1  70.0          0           0   \n",
      "\n",
      "     symptom1  symptom2  symptom3  symptom4  symptom5  diff_sym_hos  result  \n",
      "0          14        31        19        12         3             8       1  \n",
      "1          14        31        19        12         3             0       0  \n",
      "2          14        31        19        12         3            13       0  \n",
      "3          14        31        19        12         3             0       0  \n",
      "4          14        31        19        12         3             0       0  \n",
      "..        ...       ...       ...       ...       ...           ...     ...  \n",
      "858        14        31        19        12         3             0       1  \n",
      "859        14        31        19        12         3             0       0  \n",
      "860        14        31        19        12         3             0       0  \n",
      "861        14        31        19        12         3             0       0  \n",
      "862        14        31        19        12         3             0       0  \n",
      "\n",
      "[863 rows x 14 columns]\n"
     ]
    }
   ],
   "source": [
    "dataSet = pd.read_csv(\"data.csv\")\n",
    "dataSet = dataSet.drop(dataSet.columns[[12]], axis=1)\n",
    "print(dataSet)"
   ]
  },
  {
   "cell_type": "code",
   "execution_count": 14,
   "id": "86f7f773",
   "metadata": {},
   "outputs": [
    {
     "name": "stdout",
     "output_type": "stream",
     "text": [
      "     Unnamed: 0   age  vis_wuhan  from_wuhan  location_0  location_1  \\\n",
      "0             0  66.0          1           0           0           0   \n",
      "1             1  56.0          0           1           0           0   \n",
      "2             2  46.0          0           1           0           0   \n",
      "3             3  60.0          1           0           0           0   \n",
      "4             4  58.0          0           0           0           0   \n",
      "..          ...   ...        ...         ...         ...         ...   \n",
      "858         858  24.0          0           0           0           0   \n",
      "859         859  35.0          0           0           1           0   \n",
      "860         860  49.4          0           0           0           0   \n",
      "861         861  49.4          0           0           0           0   \n",
      "862         862  70.0          0           0           0           0   \n",
      "\n",
      "     location_2  location_3  location_4  location_5  ...  diff_sym_hos_7  \\\n",
      "0             0           0           0           0  ...               0   \n",
      "1             0           0           0           0  ...               0   \n",
      "2             0           0           0           0  ...               0   \n",
      "3             0           0           0           0  ...               0   \n",
      "4             0           0           0           0  ...               0   \n",
      "..          ...         ...         ...         ...  ...             ...   \n",
      "858           0           0           0           0  ...               0   \n",
      "859           0           0           0           0  ...               0   \n",
      "860           0           1           0           0  ...               0   \n",
      "861           0           0           0           0  ...               0   \n",
      "862           0           0           0           0  ...               0   \n",
      "\n",
      "     diff_sym_hos_8  diff_sym_hos_9  diff_sym_hos_10  diff_sym_hos_11  \\\n",
      "0                 1               0                0                0   \n",
      "1                 0               0                0                0   \n",
      "2                 0               0                0                0   \n",
      "3                 0               0                0                0   \n",
      "4                 0               0                0                0   \n",
      "..              ...             ...              ...              ...   \n",
      "858               0               0                0                0   \n",
      "859               0               0                0                0   \n",
      "860               0               0                0                0   \n",
      "861               0               0                0                0   \n",
      "862               0               0                0                0   \n",
      "\n",
      "     diff_sym_hos_12  diff_sym_hos_13  diff_sym_hos_14  diff_sym_hos_15  \\\n",
      "0                  0                0                0                0   \n",
      "1                  0                0                0                0   \n",
      "2                  0                1                0                0   \n",
      "3                  0                0                0                0   \n",
      "4                  0                0                0                0   \n",
      "..               ...              ...              ...              ...   \n",
      "858                0                0                0                0   \n",
      "859                0                0                0                0   \n",
      "860                0                0                0                0   \n",
      "861                0                0                0                0   \n",
      "862                0                0                0                0   \n",
      "\n",
      "     result  \n",
      "0         1  \n",
      "1         0  \n",
      "2         0  \n",
      "3         0  \n",
      "4         0  \n",
      "..      ...  \n",
      "858       1  \n",
      "859       0  \n",
      "860       0  \n",
      "861       0  \n",
      "862       0  \n",
      "\n",
      "[863 rows x 293 columns]\n"
     ]
    }
   ],
   "source": [
    "one_hot_encoded_data = pd.get_dummies(dataSet, columns = ['location', 'country', 'gender', 'symptom1', 'symptom2', 'symptom3', 'symptom4', 'symptom5', 'diff_sym_hos'])\n",
    "df = pd.DataFrame(one_hot_encoded_data)\n",
    "first_column = df.pop('result')\n",
    "df.insert(292, 'result', first_column)\n",
    "print(df)"
   ]
  },
  {
   "cell_type": "markdown",
   "id": "fe170749",
   "metadata": {},
   "source": [
    "# STEP 2: SCALE THE FEATURES AND SPLIT THE DATASET INTO X & Y"
   ]
  },
  {
   "cell_type": "code",
   "execution_count": 15,
   "id": "d4c477cc",
   "metadata": {},
   "outputs": [
    {
     "name": "stdout",
     "output_type": "stream",
     "text": [
      "X: [[0.68085106 1.         0.         ... 0.         0.         0.        ]\n",
      " [0.57446809 0.         1.         ... 0.         0.         0.        ]\n",
      " [0.46808511 0.         1.         ... 0.         1.         0.        ]\n",
      " ...\n",
      " [0.50425532 0.         0.         ... 0.         0.         0.        ]\n",
      " [0.50425532 0.         0.         ... 0.         0.         0.        ]\n",
      " [0.72340426 0.         0.         ... 0.         0.         0.        ]]\n",
      "Y: [1. 0. 0. 0. 0. 0. 0. 0. 0. 0. 0. 0. 0. 0. 1. 0. 0. 0. 0. 0. 0. 0. 0. 0.\n",
      " 0. 0. 0. 0. 0. 0. 0. 0. 1. 0. 1. 0. 0. 0. 0. 0. 0. 0. 0. 0. 0. 0. 0. 0.\n",
      " 0. 0. 0. 0. 0. 0. 0. 0. 0. 0. 0. 0. 0. 0. 0. 0. 0. 0. 0. 0. 0. 0. 0. 0.\n",
      " 0. 0. 0. 0. 0. 0. 0. 0. 0. 0. 0. 0. 0. 0. 0. 0. 0. 0. 0. 0. 0. 0. 0. 0.\n",
      " 0. 0. 0. 0. 0. 0. 0. 0. 1. 0. 0. 0. 0. 0. 0. 0. 1. 0. 0. 0. 0. 0. 0. 0.\n",
      " 1. 0. 0. 0. 1. 0. 0. 0. 1. 1. 0. 0. 0. 0. 0. 1. 0. 0. 0. 0. 0. 1. 0. 0.\n",
      " 0. 0. 0. 1. 0. 0. 0. 0. 0. 0. 0. 0. 0. 0. 0. 0. 0. 0. 0. 0. 0. 0. 0. 0.\n",
      " 0. 0. 0. 0. 0. 0. 0. 0. 0. 0. 0. 0. 0. 0. 0. 0. 0. 0. 0. 0. 0. 0. 0. 0.\n",
      " 0. 0. 1. 0. 0. 0. 0. 0. 0. 0. 0. 0. 0. 0. 0. 0. 0. 0. 0. 0. 0. 0. 0. 1.\n",
      " 0. 0. 1. 0. 1. 0. 0. 0. 0. 0. 0. 0. 0. 0. 0. 0. 0. 0. 0. 1. 0. 0. 0. 0.\n",
      " 0. 0. 0. 0. 0. 1. 1. 0. 0. 1. 1. 1. 1. 1. 0. 0. 0. 0. 0. 1. 0. 0. 1. 1.\n",
      " 0. 0. 0. 1. 0. 0. 0. 1. 1. 0. 0. 0. 0. 0. 0. 0. 0. 0. 0. 0. 0. 0. 1. 0.\n",
      " 1. 0. 0. 0. 0. 1. 0. 1. 0. 0. 0. 0. 0. 0. 0. 0. 0. 0. 0. 0. 0. 0. 0. 0.\n",
      " 0. 0. 0. 0. 0. 0. 0. 0. 0. 0. 0. 0. 0. 1. 1. 0. 0. 0. 0. 1. 1. 1. 0. 0.\n",
      " 1. 1. 0. 0. 0. 0. 0. 0. 0. 0. 0. 0. 1. 1. 0. 0. 0. 0. 0. 1. 0. 1. 0. 0.\n",
      " 0. 0. 0. 0. 0. 0. 0. 0. 0. 0. 1. 0. 0. 0. 0. 0. 0. 0. 0. 0. 1. 0. 0. 0.\n",
      " 0. 0. 0. 0. 0. 0. 0. 0. 0. 0. 1. 0. 0. 0. 0. 0. 0. 0. 0. 0. 0. 0. 0. 0.\n",
      " 0. 0. 1. 0. 1. 0. 0. 0. 0. 0. 0. 1. 0. 0. 0. 0. 0. 0. 0. 0. 0. 1. 0. 0.\n",
      " 1. 0. 0. 0. 0. 0. 0. 0. 0. 0. 0. 0. 0. 0. 0. 0. 0. 0. 0. 0. 0. 0. 0. 0.\n",
      " 0. 0. 0. 0. 0. 0. 0. 0. 0. 0. 0. 0. 0. 0. 0. 0. 0. 0. 0. 0. 0. 0. 0. 1.\n",
      " 0. 0. 0. 0. 0. 0. 0. 0. 0. 0. 0. 0. 0. 0. 0. 0. 0. 0. 0. 0. 0. 0. 1. 0.\n",
      " 0. 0. 0. 0. 1. 0. 0. 1. 0. 0. 0. 0. 0. 1. 0. 0. 1. 0. 1. 0. 0. 0. 0. 0.\n",
      " 0. 0. 0. 0. 0. 0. 0. 1. 0. 0. 0. 0. 0. 0. 0. 0. 0. 0. 0. 0. 0. 0. 0. 0.\n",
      " 0. 0. 0. 0. 0. 0. 0. 0. 0. 0. 0. 0. 0. 0. 0. 0. 0. 0. 0. 0. 0. 0. 0. 0.\n",
      " 1. 1. 1. 1. 1. 1. 1. 0. 1. 1. 1. 0. 0. 0. 0. 0. 0. 0. 0. 0. 0. 1. 0. 0.\n",
      " 0. 0. 0. 0. 0. 0. 0. 0. 0. 0. 0. 0. 0. 0. 0. 0. 0. 0. 0. 0. 0. 0. 0. 0.\n",
      " 0. 0. 0. 0. 0. 0. 0. 0. 0. 0. 0. 0. 0. 0. 0. 0. 0. 0. 0. 0. 0. 0. 0. 0.\n",
      " 0. 0. 0. 0. 0. 0. 0. 0. 0. 0. 0. 1. 0. 0. 0. 0. 0. 0. 0. 0. 0. 0. 0. 0.\n",
      " 0. 0. 0. 1. 0. 0. 0. 1. 1. 0. 0. 1. 0. 0. 0. 0. 1. 0. 0. 0. 0. 1. 1. 0.\n",
      " 1. 0. 0. 0. 0. 0. 0. 0. 1. 0. 1. 0. 1. 0. 1. 0. 0. 0. 1. 0. 0. 0. 0. 0.\n",
      " 0. 0. 1. 0. 0. 0. 0. 1. 1. 1. 1. 1. 0. 0. 0. 1. 1. 1. 1. 1. 0. 0. 1. 0.\n",
      " 0. 0. 0. 0. 0. 0. 1. 0. 0. 0. 1. 0. 0. 1. 1. 0. 0. 0. 0. 0. 0. 0. 0. 0.\n",
      " 0. 0. 0. 0. 0. 0. 0. 0. 0. 0. 0. 0. 0. 1. 0. 0. 0. 0. 0. 0. 0. 0. 0. 0.\n",
      " 0. 1. 0. 0. 0. 0. 0. 0. 0. 0. 0. 0. 0. 0. 0. 0. 0. 0. 0. 1. 0. 0. 0. 0.\n",
      " 0. 0. 0. 0. 0. 0. 0. 0. 0. 0. 0. 0. 0. 0. 0. 0. 0. 0. 0. 0. 0. 0. 0. 0.\n",
      " 0. 0. 0. 0. 0. 0. 0. 0. 0. 0. 0. 0. 0. 0. 0. 0. 0. 1. 1. 0. 0. 0. 0.]\n"
     ]
    }
   ],
   "source": [
    "scaler = MinMaxScaler()\n",
    "# transform data\n",
    "scaled = scaler.fit_transform(df)\n",
    "x = scaled[0:864, 1:291]\n",
    "y = scaled[0:864, 292]\n",
    "print(\"X:\", x)\n",
    "print(\"Y:\", y)"
   ]
  },
  {
   "cell_type": "markdown",
   "id": "192742b3",
   "metadata": {},
   "source": [
    "# STEP 3: SPLIT THE DATA INTO TRAIN, VALIDATION, AND TEST"
   ]
  },
  {
   "cell_type": "code",
   "execution_count": 16,
   "id": "25d2d546",
   "metadata": {},
   "outputs": [
    {
     "name": "stdout",
     "output_type": "stream",
     "text": [
      "517\n",
      "173\n",
      "173\n"
     ]
    }
   ],
   "source": [
    "x_temp, xTest, y_temp, yTest = train_test_split(x,y,train_size=0.8, random_state = 5,shuffle=True)\n",
    "xTrain, xValidation, yTrain, yValidation =  train_test_split(x_temp,y_temp,train_size=0.75,random_state = 5,shuffle=True)\n",
    "print(len(xTrain))\n",
    "print(len(xValidation))\n",
    "print(len(xTest))"
   ]
  },
  {
   "cell_type": "markdown",
   "id": "b3fb8c20",
   "metadata": {},
   "source": [
    "# STEP 4: TRAIN THE MODEL AND VALIDATE IT"
   ]
  },
  {
   "cell_type": "code",
   "execution_count": 17,
   "id": "255b47b6",
   "metadata": {},
   "outputs": [
    {
     "name": "stdout",
     "output_type": "stream",
     "text": [
      "Accuracy 0.930635838150289\n",
      "Accuracy 0.9364161849710982\n",
      "Accuracy 0.9364161849710982\n",
      "Accuracy 0.9248554913294798\n",
      "Accuracy 0.9248554913294798\n"
     ]
    }
   ],
   "source": [
    "modelAccuracy = [];\n",
    "for i in range(1,6):\n",
    "    # instantiate the model (using the default parameters)\n",
    "    logreg = LogisticRegression(C=i, class_weight = 'balanced')\n",
    "    # fit the model with data\n",
    "    logreg.fit(xTrain,yTrain)\n",
    "\n",
    "    #Predict the response for validation dataset\n",
    "    y_pred=logreg.predict(xValidation)\n",
    "\n",
    "    #Accuracy of Predict\n",
    "    modelAccuracy.append(metrics.accuracy_score(yValidation, y_pred))\n",
    "    print (\"Accuracy\", metrics.accuracy_score(yValidation, y_pred))\n"
   ]
  },
  {
   "cell_type": "code",
   "execution_count": 18,
   "id": "bbde70b9",
   "metadata": {},
   "outputs": [
    {
     "name": "stdout",
     "output_type": "stream",
     "text": [
      "2\n"
     ]
    }
   ],
   "source": [
    "bestAccuracy = max(modelAccuracy)\n",
    "optimalRegularizer = modelAccuracy.index(bestAccuracy)+1\n",
    "print(optimalRegularizer)"
   ]
  },
  {
   "cell_type": "code",
   "execution_count": 19,
   "id": "902e80c7",
   "metadata": {},
   "outputs": [
    {
     "name": "stdout",
     "output_type": "stream",
     "text": [
      "[0. 0. 0. 1. 0. 0. 0. 1. 0. 0. 0. 0. 0. 0. 0. 0. 0. 0. 0. 0. 0. 0. 1. 1.\n",
      " 0. 0. 0. 0. 0. 0. 0. 0. 0. 1. 0. 0. 0. 0. 0. 1. 0. 1. 0. 0. 0. 0. 0. 0.\n",
      " 0. 0. 0. 0. 0. 0. 0. 0. 0. 0. 0. 0. 0. 0. 1. 0. 0. 0. 0. 0. 0. 0. 0. 0.\n",
      " 0. 1. 0. 0. 0. 0. 0. 0. 0. 0. 0. 0. 0. 0. 0. 0. 0. 1. 0. 0. 0. 1. 0. 0.\n",
      " 0. 0. 1. 0. 0. 0. 0. 0. 0. 0. 0. 0. 0. 0. 0. 0. 0. 0. 0. 1. 0. 0. 0. 0.\n",
      " 0. 0. 0. 0. 0. 0. 0. 0. 0. 0. 0. 0. 1. 0. 1. 0. 0. 0. 0. 0. 0. 0. 0. 0.\n",
      " 0. 0. 0. 0. 0. 0. 0. 0. 1. 0. 0. 1. 1. 0. 0. 1. 0. 0. 0. 0. 0. 0. 0. 0.\n",
      " 0. 0. 1. 1. 0.]\n",
      "Accuracy 0.9364161849710982\n"
     ]
    }
   ],
   "source": [
    "model = LogisticRegression(C=optimalRegularizer, class_weight='balanced')\n",
    "# Train the model using the training sets\n",
    "model.fit(xTrain, yTrain)\n",
    "\n",
    "#Predicted Output on Test Data\n",
    "y_pred= model.predict(xValidation)       \n",
    "print(y_pred)\n",
    "\n",
    "modelAccuracy.append(metrics.accuracy_score(yValidation, y_pred))\n",
    "print (\"Accuracy\", metrics.accuracy_score(yValidation, y_pred))"
   ]
  },
  {
   "cell_type": "markdown",
   "id": "dc4104bd",
   "metadata": {},
   "source": [
    "# STEP 5: MEASURE ACCURACY ON TEST DATA"
   ]
  },
  {
   "cell_type": "code",
   "execution_count": 20,
   "id": "899f2043",
   "metadata": {},
   "outputs": [
    {
     "name": "stdout",
     "output_type": "stream",
     "text": [
      "Accuracy: 0.9421965317919075\n"
     ]
    }
   ],
   "source": [
    "#Predict the response for validation dataset\n",
    "y_pred=logreg.predict(xTest)\n",
    "\n",
    "#Accuracy of Predict\n",
    "print(\"Accuracy:\",metrics.accuracy_score(yTest, y_pred))"
   ]
  },
  {
   "cell_type": "markdown",
   "id": "27e7991b",
   "metadata": {},
   "source": [
    "# STEP 6: CALCULATING THE PERFORMANCE METRICS"
   ]
  },
  {
   "cell_type": "code",
   "execution_count": 21,
   "id": "ac7da59c",
   "metadata": {},
   "outputs": [
    {
     "name": "stdout",
     "output_type": "stream",
     "text": [
      "Precision: 0.687500\n",
      "Recall: 1.000000\n",
      "F1 score: 0.814815\n",
      "ROC AUC: 0.966887\n"
     ]
    },
    {
     "name": "stderr",
     "output_type": "stream",
     "text": [
      "C:\\Users\\UNiversal ADV\\miniconda3\\envs\\mlpr\\lib\\site-packages\\sklearn\\utils\\deprecation.py:87: FutureWarning: Function plot_confusion_matrix is deprecated; Function `plot_confusion_matrix` is deprecated in 1.0 and will be removed in 1.2. Use one of the class methods: ConfusionMatrixDisplay.from_predictions or ConfusionMatrixDisplay.from_estimator.\n",
      "  warnings.warn(msg, category=FutureWarning)\n"
     ]
    },
    {
     "data": {
      "text/plain": "<Figure size 432x288 with 2 Axes>",
      "image/png": "[encoded data removed]"
     },
     "metadata": {
      "needs_background": "light"
     },
     "output_type": "display_data"
    }
   ],
   "source": [
    "precision = precision_score(yTest, y_pred)\n",
    "print('Precision: %f' % precision)\n",
    "recall = recall_score(yTest, y_pred)\n",
    "print('Recall: %f' % recall)\n",
    "f1 = f1_score(yTest, y_pred)\n",
    "print('F1 score: %f' % f1)\n",
    "auc = roc_auc_score(yTest, y_pred)\n",
    "print('ROC AUC: %f' % auc)\n",
    "plot_confusion_matrix(logreg, xTest, yTest)\n",
    "plt.show()"
   ]
  },
  {
   "cell_type": "markdown",
   "id": "2075ce4d",
   "metadata": {},
   "source": [
    "# STEP 7: GRAPHING THE ROC CURVE"
   ]
  },
  {
   "cell_type": "code",
   "execution_count": 22,
   "id": "4fa74dca",
   "metadata": {},
   "outputs": [
    {
     "data": {
      "text/plain": "<Figure size 432x288 with 1 Axes>",
      "image/png": "[encoded data removed]"
     },
     "metadata": {
      "needs_background": "light"
     },
     "output_type": "display_data"
    }
   ],
   "source": [
    "y_pred_proba = logreg.predict_proba(xTest)[::,1]\n",
    "fpr, tpr, _ = metrics.roc_curve(yTest,  y_pred_proba)\n",
    "auc = metrics.roc_auc_score(yTest, y_pred_proba)\n",
    "\n",
    "plt.plot(fpr,tpr,label=\"AUC=\"+str(auc))\n",
    "plt.ylabel('True Positive Rate')\n",
    "plt.xlabel('False Positive Rate')\n",
    "plt.legend(loc=4)\n",
    "plt.show()"
   ]
  },
  {
   "cell_type": "code",
   "execution_count": 22,
   "id": "45b940fa",
   "metadata": {},
   "outputs": [],
   "source": []
  }
 ],
 "metadata": {
  "kernelspec": {
   "display_name": "Python 3 (ipykernel)",
   "language": "python",
   "name": "python3"
  },
  "language_info": {
   "codemirror_mode": {
    "name": "ipython",
    "version": 3
   },
   "file_extension": ".py",
   "mimetype": "text/x-python",
   "name": "python",
   "nbconvert_exporter": "python",
   "pygments_lexer": "ipython3",
   "version": "3.9.7"
  }
 },
 "nbformat": 4,
 "nbformat_minor": 5
}