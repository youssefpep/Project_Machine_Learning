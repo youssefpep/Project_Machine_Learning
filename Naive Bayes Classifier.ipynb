{
 "cells": [
  {
   "cell_type": "code",
   "execution_count": 1,
   "id": "54678757",
   "metadata": {},
   "outputs": [],
   "source": [
    "from sklearn.model_selection import train_test_split\n",
    "from sklearn.preprocessing import MinMaxScaler\n",
    "from sklearn.naive_bayes import GaussianNB\n",
    "from sklearn import model_selection  \n",
    "from sklearn import metrics\n",
    "from sklearn.metrics import f1_score, precision_score, recall_score, roc_auc_score, classification_report, confusion_matrix, plot_confusion_matrix\n",
    "import random\n",
    "import numpy as np\n",
    "import random\n",
    "import pickle\n",
    "import pandas as pd\n",
    "import matplotlib.pyplot as plt"
   ]
  },
  {
   "cell_type": "markdown",
   "id": "cac45df7",
   "metadata": {},
   "source": [
    "# STEP 1: LOADING THE DATASET AND PRINTING IT"
   ]
  },
  {
   "cell_type": "code",
   "execution_count": 2,
   "id": "cd1e1d7a",
   "metadata": {},
   "outputs": [
    {
     "name": "stdout",
     "output_type": "stream",
     "text": [
      "     Unnamed: 0  location  country  gender   age  vis_wuhan  from_wuhan  \\\n",
      "0             0       104        8       1  66.0          1           0   \n",
      "1             1       101        8       0  56.0          0           1   \n",
      "2             2       137        8       1  46.0          0           1   \n",
      "3             3       116        8       0  60.0          1           0   \n",
      "4             4       116        8       1  58.0          0           0   \n",
      "..          ...       ...      ...     ...   ...        ...         ...   \n",
      "858         858        48        3       2  24.0          0           0   \n",
      "859         859         0        0       2  35.0          0           0   \n",
      "860         860         3        1       1  49.4          0           0   \n",
      "861         861        24        9       1  49.4          0           0   \n",
      "862         862        15       27       1  70.0          0           0   \n",
      "\n",
      "     symptom1  symptom2  symptom3  symptom4  symptom5  diff_sym_hos  result  \n",
      "0          14        31        19        12         3             8       1  \n",
      "1          14        31        19        12         3             0       0  \n",
      "2          14        31        19        12         3            13       0  \n",
      "3          14        31        19        12         3             0       0  \n",
      "4          14        31        19        12         3             0       0  \n",
      "..        ...       ...       ...       ...       ...           ...     ...  \n",
      "858        14        31        19        12         3             0       1  \n",
      "859        14        31        19        12         3             0       0  \n",
      "860        14        31        19        12         3             0       0  \n",
      "861        14        31        19        12         3             0       0  \n",
      "862        14        31        19        12         3             0       0  \n",
      "\n",
      "[863 rows x 14 columns]\n"
     ]
    }
   ],
   "source": [
    "dataSet = pd.read_csv(\"data.csv\")\n",
    "dataSet = dataSet.drop(dataSet.columns[[12]], axis=1)\n",
    "print(dataSet)"
   ]
  },
  {
   "cell_type": "code",
   "execution_count": 3,
   "id": "c207abf7",
   "metadata": {},
   "outputs": [
    {
     "name": "stdout",
     "output_type": "stream",
     "text": [
      "     Unnamed: 0   age  vis_wuhan  from_wuhan  location_0  location_1  \\\n",
      "0             0  66.0          1           0           0           0   \n",
      "1             1  56.0          0           1           0           0   \n",
      "2             2  46.0          0           1           0           0   \n",
      "3             3  60.0          1           0           0           0   \n",
      "4             4  58.0          0           0           0           0   \n",
      "..          ...   ...        ...         ...         ...         ...   \n",
      "858         858  24.0          0           0           0           0   \n",
      "859         859  35.0          0           0           1           0   \n",
      "860         860  49.4          0           0           0           0   \n",
      "861         861  49.4          0           0           0           0   \n",
      "862         862  70.0          0           0           0           0   \n",
      "\n",
      "     location_2  location_3  location_4  location_5  ...  diff_sym_hos_7  \\\n",
      "0             0           0           0           0  ...               0   \n",
      "1             0           0           0           0  ...               0   \n",
      "2             0           0           0           0  ...               0   \n",
      "3             0           0           0           0  ...               0   \n",
      "4             0           0           0           0  ...               0   \n",
      "..          ...         ...         ...         ...  ...             ...   \n",
      "858           0           0           0           0  ...               0   \n",
      "859           0           0           0           0  ...               0   \n",
      "860           0           1           0           0  ...               0   \n",
      "861           0           0           0           0  ...               0   \n",
      "862           0           0           0           0  ...               0   \n",
      "\n",
      "     diff_sym_hos_8  diff_sym_hos_9  diff_sym_hos_10  diff_sym_hos_11  \\\n",
      "0                 1               0                0                0   \n",
      "1                 0               0                0                0   \n",
      "2                 0               0                0                0   \n",
      "3                 0               0                0                0   \n",
      "4                 0               0                0                0   \n",
      "..              ...             ...              ...              ...   \n",
      "858               0               0                0                0   \n",
      "859               0               0                0                0   \n",
      "860               0               0                0                0   \n",
      "861               0               0                0                0   \n",
      "862               0               0                0                0   \n",
      "\n",
      "     diff_sym_hos_12  diff_sym_hos_13  diff_sym_hos_14  diff_sym_hos_15  \\\n",
      "0                  0                0                0                0   \n",
      "1                  0                0                0                0   \n",
      "2                  0                1                0                0   \n",
      "3                  0                0                0                0   \n",
      "4                  0                0                0                0   \n",
      "..               ...              ...              ...              ...   \n",
      "858                0                0                0                0   \n",
      "859                0                0                0                0   \n",
      "860                0                0                0                0   \n",
      "861                0                0                0                0   \n",
      "862                0                0                0                0   \n",
      "\n",
      "     result  \n",
      "0         1  \n",
      "1         0  \n",
      "2         0  \n",
      "3         0  \n",
      "4         0  \n",
      "..      ...  \n",
      "858       1  \n",
      "859       0  \n",
      "860       0  \n",
      "861       0  \n",
      "862       0  \n",
      "\n",
      "[863 rows x 293 columns]\n"
     ]
    }
   ],
   "source": [
    "one_hot_encoded_data = pd.get_dummies(dataSet, columns = ['location', 'country', 'gender', 'symptom1', 'symptom2', 'symptom3', 'symptom4', 'symptom5', 'diff_sym_hos'])\n",
    "df = pd.DataFrame(one_hot_encoded_data)\n",
    "first_column = df.pop('result')\n",
    "df.insert(292, 'result', first_column)\n",
    "print(df)"
   ]
  },
  {
   "cell_type": "markdown",
   "id": "39b97ddb",
   "metadata": {},
   "source": [
    "# STEP 2: SPLIT THE DATASET INTO X & Y"
   ]
  },
  {
   "cell_type": "code",
   "execution_count": 4,
   "id": "b5ba3458",
   "metadata": {},
   "outputs": [
    {
     "name": "stdout",
     "output_type": "stream",
     "text": [
      "X: [[66.   1.   0.  ...  0.   0.   0. ]\n",
      " [56.   0.   1.  ...  0.   0.   0. ]\n",
      " [46.   0.   1.  ...  0.   1.   0. ]\n",
      " ...\n",
      " [49.4  0.   0.  ...  0.   0.   0. ]\n",
      " [49.4  0.   0.  ...  0.   0.   0. ]\n",
      " [70.   0.   0.  ...  0.   0.   0. ]]\n",
      "Y: [1. 0. 0. 0. 0. 0. 0. 0. 0. 0. 0. 0. 0. 0. 1. 0. 0. 0. 0. 0. 0. 0. 0. 0.\n",
      " 0. 0. 0. 0. 0. 0. 0. 0. 1. 0. 1. 0. 0. 0. 0. 0. 0. 0. 0. 0. 0. 0. 0. 0.\n",
      " 0. 0. 0. 0. 0. 0. 0. 0. 0. 0. 0. 0. 0. 0. 0. 0. 0. 0. 0. 0. 0. 0. 0. 0.\n",
      " 0. 0. 0. 0. 0. 0. 0. 0. 0. 0. 0. 0. 0. 0. 0. 0. 0. 0. 0. 0. 0. 0. 0. 0.\n",
      " 0. 0. 0. 0. 0. 0. 0. 0. 1. 0. 0. 0. 0. 0. 0. 0. 1. 0. 0. 0. 0. 0. 0. 0.\n",
      " 1. 0. 0. 0. 1. 0. 0. 0. 1. 1. 0. 0. 0. 0. 0. 1. 0. 0. 0. 0. 0. 1. 0. 0.\n",
      " 0. 0. 0. 1. 0. 0. 0. 0. 0. 0. 0. 0. 0. 0. 0. 0. 0. 0. 0. 0. 0. 0. 0. 0.\n",
      " 0. 0. 0. 0. 0. 0. 0. 0. 0. 0. 0. 0. 0. 0. 0. 0. 0. 0. 0. 0. 0. 0. 0. 0.\n",
      " 0. 0. 1. 0. 0. 0. 0. 0. 0. 0. 0. 0. 0. 0. 0. 0. 0. 0. 0. 0. 0. 0. 0. 1.\n",
      " 0. 0. 1. 0. 1. 0. 0. 0. 0. 0. 0. 0. 0. 0. 0. 0. 0. 0. 0. 1. 0. 0. 0. 0.\n",
      " 0. 0. 0. 0. 0. 1. 1. 0. 0. 1. 1. 1. 1. 1. 0. 0. 0. 0. 0. 1. 0. 0. 1. 1.\n",
      " 0. 0. 0. 1. 0. 0. 0. 1. 1. 0. 0. 0. 0. 0. 0. 0. 0. 0. 0. 0. 0. 0. 1. 0.\n",
      " 1. 0. 0. 0. 0. 1. 0. 1. 0. 0. 0. 0. 0. 0. 0. 0. 0. 0. 0. 0. 0. 0. 0. 0.\n",
      " 0. 0. 0. 0. 0. 0. 0. 0. 0. 0. 0. 0. 0. 1. 1. 0. 0. 0. 0. 1. 1. 1. 0. 0.\n",
      " 1. 1. 0. 0. 0. 0. 0. 0. 0. 0. 0. 0. 1. 1. 0. 0. 0. 0. 0. 1. 0. 1. 0. 0.\n",
      " 0. 0. 0. 0. 0. 0. 0. 0. 0. 0. 1. 0. 0. 0. 0. 0. 0. 0. 0. 0. 1. 0. 0. 0.\n",
      " 0. 0. 0. 0. 0. 0. 0. 0. 0. 0. 1. 0. 0. 0. 0. 0. 0. 0. 0. 0. 0. 0. 0. 0.\n",
      " 0. 0. 1. 0. 1. 0. 0. 0. 0. 0. 0. 1. 0. 0. 0. 0. 0. 0. 0. 0. 0. 1. 0. 0.\n",
      " 1. 0. 0. 0. 0. 0. 0. 0. 0. 0. 0. 0. 0. 0. 0. 0. 0. 0. 0. 0. 0. 0. 0. 0.\n",
      " 0. 0. 0. 0. 0. 0. 0. 0. 0. 0. 0. 0. 0. 0. 0. 0. 0. 0. 0. 0. 0. 0. 0. 1.\n",
      " 0. 0. 0. 0. 0. 0. 0. 0. 0. 0. 0. 0. 0. 0. 0. 0. 0. 0. 0. 0. 0. 0. 1. 0.\n",
      " 0. 0. 0. 0. 1. 0. 0. 1. 0. 0. 0. 0. 0. 1. 0. 0. 1. 0. 1. 0. 0. 0. 0. 0.\n",
      " 0. 0. 0. 0. 0. 0. 0. 1. 0. 0. 0. 0. 0. 0. 0. 0. 0. 0. 0. 0. 0. 0. 0. 0.\n",
      " 0. 0. 0. 0. 0. 0. 0. 0. 0. 0. 0. 0. 0. 0. 0. 0. 0. 0. 0. 0. 0. 0. 0. 0.\n",
      " 1. 1. 1. 1. 1. 1. 1. 0. 1. 1. 1. 0. 0. 0. 0. 0. 0. 0. 0. 0. 0. 1. 0. 0.\n",
      " 0. 0. 0. 0. 0. 0. 0. 0. 0. 0. 0. 0. 0. 0. 0. 0. 0. 0. 0. 0. 0. 0. 0. 0.\n",
      " 0. 0. 0. 0. 0. 0. 0. 0. 0. 0. 0. 0. 0. 0. 0. 0. 0. 0. 0. 0. 0. 0. 0. 0.\n",
      " 0. 0. 0. 0. 0. 0. 0. 0. 0. 0. 0. 1. 0. 0. 0. 0. 0. 0. 0. 0. 0. 0. 0. 0.\n",
      " 0. 0. 0. 1. 0. 0. 0. 1. 1. 0. 0. 1. 0. 0. 0. 0. 1. 0. 0. 0. 0. 1. 1. 0.\n",
      " 1. 0. 0. 0. 0. 0. 0. 0. 1. 0. 1. 0. 1. 0. 1. 0. 0. 0. 1. 0. 0. 0. 0. 0.\n",
      " 0. 0. 1. 0. 0. 0. 0. 1. 1. 1. 1. 1. 0. 0. 0. 1. 1. 1. 1. 1. 0. 0. 1. 0.\n",
      " 0. 0. 0. 0. 0. 0. 1. 0. 0. 0. 1. 0. 0. 1. 1. 0. 0. 0. 0. 0. 0. 0. 0. 0.\n",
      " 0. 0. 0. 0. 0. 0. 0. 0. 0. 0. 0. 0. 0. 1. 0. 0. 0. 0. 0. 0. 0. 0. 0. 0.\n",
      " 0. 1. 0. 0. 0. 0. 0. 0. 0. 0. 0. 0. 0. 0. 0. 0. 0. 0. 0. 1. 0. 0. 0. 0.\n",
      " 0. 0. 0. 0. 0. 0. 0. 0. 0. 0. 0. 0. 0. 0. 0. 0. 0. 0. 0. 0. 0. 0. 0. 0.\n",
      " 0. 0. 0. 0. 0. 0. 0. 0. 0. 0. 0. 0. 0. 0. 0. 0. 0. 1. 1. 0. 0. 0. 0.]\n"
     ]
    }
   ],
   "source": [
    "#scaler = MinMaxScaler()\n",
    "# transform data\n",
    "#scaled = scaler.fit_transform(df)\n",
    "df = np.array(df)\n",
    "x = df[0:864, 1:291]\n",
    "y = df[0:864, 292]\n",
    "print(\"X:\", x)\n",
    "print(\"Y:\", y)"
   ]
  },
  {
   "cell_type": "markdown",
   "id": "d5b913f6",
   "metadata": {},
   "source": [
    "# STEP 3: SPLIT THE DATA INTO TRAIN, VALIDATION, AND TEST"
   ]
  },
  {
   "cell_type": "code",
   "execution_count": 5,
   "id": "7a8d8b8a",
   "metadata": {},
   "outputs": [
    {
     "name": "stdout",
     "output_type": "stream",
     "text": [
      "690\n",
      "87\n",
      "86\n",
      "[0. 1. 0. 0. 0. 0. 0. 0. 0. 1. 1. 1. 0. 0. 0. 0. 0. 0. 1. 0. 0. 0. 0. 0.\n",
      " 0. 0. 0. 0. 0. 1. 0. 0. 1. 0. 0. 0. 0. 0. 1. 1. 0. 0. 0. 0. 0. 1. 0. 0.\n",
      " 0. 0. 0. 0. 1. 0. 0. 0. 0. 0. 0. 0. 0. 0. 1. 0. 0. 0. 0. 0. 1. 0. 0. 0.\n",
      " 0. 0. 0. 0. 0. 0. 0. 0. 0. 0. 0. 0. 0. 0. 0.]\n",
      "[0. 1. 0. 0. 0. 0. 0. 0. 0. 0. 0. 0. 0. 0. 0. 0. 0. 0. 1. 1. 0. 0. 0. 0.\n",
      " 1. 0. 0. 0. 0. 0. 0. 0. 0. 0. 0. 0. 0. 0. 0. 0. 1. 0. 1. 0. 0. 0. 0. 0.\n",
      " 0. 0. 0. 0. 0. 0. 0. 0. 0. 0. 1. 0. 0. 1. 0. 0. 0. 0. 0. 0. 0. 0. 1. 0.\n",
      " 0. 0. 0. 0. 1. 0. 0. 0. 0. 0. 0. 0. 0. 0.]\n"
     ]
    }
   ],
   "source": [
    "xTrain, x_temp, yTrain, y_temp = train_test_split(x,y,train_size=0.8, random_state= 17)\n",
    "xTest, xValidation, yTest, yValidation =  train_test_split(x_temp,y_temp,train_size=0.50, random_state=17)\n",
    "print(len(xTrain))\n",
    "print(len(xValidation))\n",
    "print(len(xTest))\n",
    "print (yValidation)\n",
    "print (yTest)"
   ]
  },
  {
   "cell_type": "markdown",
   "id": "f1f786c9",
   "metadata": {},
   "source": [
    "# STEP 4: TRAIN THE MODEL AND VALIDATE IT"
   ]
  },
  {
   "cell_type": "code",
   "execution_count": 6,
   "id": "69d7888f",
   "metadata": {},
   "outputs": [
    {
     "name": "stdout",
     "output_type": "stream",
     "text": [
      "[0. 1. 0. 0. 0. 0. 0. 0. 0. 1. 1. 0. 0. 0. 0. 0. 0. 0. 1. 0. 0. 0. 0. 0.\n",
      " 0. 0. 0. 0. 0. 1. 0. 0. 1. 0. 0. 0. 0. 0. 1. 0. 0. 0. 0. 0. 0. 0. 0. 0.\n",
      " 0. 0. 0. 0. 0. 1. 0. 0. 0. 0. 0. 0. 0. 0. 1. 0. 0. 0. 0. 0. 1. 0. 0. 0.\n",
      " 0. 0. 0. 0. 0. 0. 0. 0. 0. 0. 0. 0. 0. 0. 0.]\n",
      "Accuracy 0.6923076923076923\n",
      "[0. 1. 0. 0. 0. 0. 0. 0. 0. 1. 1. 0. 0. 0. 0. 0. 0. 0. 1. 0. 0. 0. 0. 0.\n",
      " 0. 0. 0. 0. 0. 1. 0. 0. 1. 0. 0. 0. 0. 0. 1. 0. 0. 0. 0. 0. 0. 0. 0. 0.\n",
      " 0. 0. 0. 0. 0. 1. 0. 0. 0. 0. 0. 0. 0. 0. 1. 0. 0. 0. 0. 0. 1. 0. 0. 0.\n",
      " 0. 0. 0. 0. 0. 0. 0. 0. 0. 0. 0. 0. 0. 0. 0.]\n",
      "Accuracy 0.6923076923076923\n",
      "[0. 1. 0. 0. 0. 0. 0. 0. 0. 1. 1. 1. 0. 0. 0. 0. 0. 0. 1. 0. 0. 0. 0. 0.\n",
      " 0. 0. 0. 0. 0. 1. 1. 0. 1. 0. 0. 0. 0. 0. 0. 1. 0. 0. 0. 0. 0. 0. 0. 0.\n",
      " 0. 0. 0. 0. 0. 0. 0. 0. 0. 0. 0. 0. 0. 0. 1. 0. 0. 0. 0. 0. 1. 0. 1. 0.\n",
      " 0. 0. 0. 0. 0. 0. 0. 0. 0. 0. 0. 0. 0. 0. 0.]\n",
      "Accuracy 0.7692307692307693\n",
      "[0. 0. 0. 0. 0. 0. 1. 0. 0. 1. 1. 0. 0. 0. 0. 0. 0. 0. 1. 0. 1. 0. 0. 0.\n",
      " 0. 0. 0. 0. 0. 1. 1. 0. 1. 0. 1. 0. 1. 0. 0. 1. 1. 1. 0. 0. 0. 0. 0. 0.\n",
      " 0. 0. 0. 0. 0. 0. 0. 0. 0. 0. 1. 0. 1. 0. 1. 1. 0. 0. 1. 0. 1. 0. 1. 0.\n",
      " 0. 0. 0. 0. 1. 0. 0. 0. 0. 0. 0. 0. 0. 0. 0.]\n",
      "Accuracy 0.6153846153846154\n",
      "[1. 1. 0. 0. 1. 1. 1. 0. 0. 1. 0. 0. 0. 0. 0. 1. 1. 1. 1. 0. 1. 0. 1. 0.\n",
      " 0. 0. 0. 0. 0. 1. 1. 1. 0. 1. 1. 1. 0. 1. 1. 1. 1. 1. 0. 0. 0. 0. 1. 1.\n",
      " 1. 1. 0. 0. 1. 0. 1. 0. 0. 1. 1. 0. 0. 0. 1. 0. 0. 0. 1. 0. 1. 0. 0. 0.\n",
      " 0. 0. 0. 0. 1. 1. 0. 0. 1. 0. 1. 1. 0. 1. 0.]\n",
      "Accuracy 0.6923076923076923\n",
      "[1. 1. 0. 0. 1. 1. 1. 0. 0. 1. 0. 0. 0. 0. 0. 1. 1. 1. 1. 0. 1. 0. 1. 0.\n",
      " 0. 0. 0. 0. 0. 1. 1. 1. 0. 1. 1. 1. 0. 1. 1. 1. 1. 1. 0. 0. 0. 0. 1. 1.\n",
      " 1. 1. 0. 0. 1. 0. 1. 0. 0. 1. 1. 0. 0. 0. 1. 0. 0. 0. 1. 0. 1. 0. 0. 0.\n",
      " 0. 0. 0. 0. 1. 1. 0. 0. 1. 0. 1. 1. 0. 1. 0.]\n",
      "Accuracy 0.6923076923076923\n",
      "[1. 1. 0. 0. 1. 1. 1. 0. 0. 1. 0. 0. 0. 0. 0. 1. 1. 1. 1. 0. 1. 0. 1. 0.\n",
      " 0. 0. 0. 0. 0. 1. 1. 1. 0. 1. 1. 1. 0. 1. 1. 1. 1. 1. 0. 0. 0. 0. 1. 1.\n",
      " 1. 1. 0. 0. 1. 0. 1. 0. 0. 1. 1. 0. 0. 0. 1. 0. 0. 0. 1. 0. 1. 0. 0. 0.\n",
      " 0. 0. 0. 0. 1. 1. 0. 0. 1. 0. 1. 1. 0. 1. 0.]\n",
      "Accuracy 0.6923076923076923\n",
      "[1. 1. 0. 0. 1. 1. 1. 0. 0. 1. 0. 0. 0. 0. 0. 1. 1. 1. 1. 0. 1. 0. 1. 0.\n",
      " 0. 0. 0. 0. 0. 1. 1. 1. 0. 1. 1. 1. 0. 1. 1. 1. 1. 1. 0. 0. 0. 0. 1. 1.\n",
      " 1. 1. 0. 0. 1. 0. 1. 0. 0. 1. 1. 0. 0. 0. 1. 0. 0. 0. 1. 0. 1. 0. 0. 0.\n",
      " 0. 0. 0. 0. 1. 1. 0. 0. 1. 0. 1. 1. 0. 1. 0.]\n",
      "Accuracy 0.6923076923076923\n",
      "[1. 1. 0. 0. 1. 1. 1. 0. 0. 1. 0. 0. 0. 0. 0. 1. 1. 1. 1. 0. 1. 0. 1. 0.\n",
      " 0. 0. 0. 0. 0. 1. 1. 1. 0. 1. 1. 1. 0. 1. 1. 1. 1. 1. 0. 0. 0. 0. 1. 1.\n",
      " 1. 1. 0. 0. 1. 0. 1. 0. 0. 1. 1. 0. 0. 0. 1. 0. 0. 0. 1. 0. 1. 0. 0. 0.\n",
      " 0. 0. 0. 0. 1. 1. 0. 0. 1. 0. 1. 1. 0. 1. 0.]\n",
      "Accuracy 0.6923076923076923\n"
     ]
    }
   ],
   "source": [
    "modelAccuracy = [];\n",
    "for i in range(1,10):\n",
    "    #Create a Gaussian Classifier\n",
    "    gnb = GaussianNB(var_smoothing=1/np.power(10,i))\n",
    "    #Train the model using the training sets\n",
    "    gnb.fit(xTrain, yTrain)\n",
    "\n",
    "    #Predict the response for test dataset\n",
    "    y_pred = gnb.predict(xValidation)\n",
    "    print(y_pred)\n",
    "\n",
    "    #Accuracy of Predict\n",
    "    modelAccuracy.append(metrics.recall_score(yValidation, y_pred))\n",
    "    print (\"Accuracy\", metrics.recall_score(yValidation, y_pred))"
   ]
  },
  {
   "cell_type": "code",
   "execution_count": 7,
   "id": "16bb8928",
   "metadata": {},
   "outputs": [
    {
     "name": "stdout",
     "output_type": "stream",
     "text": [
      "3\n"
     ]
    }
   ],
   "source": [
    "bestAccuracy = max(modelAccuracy)\n",
    "optimalAlpha = modelAccuracy.index(bestAccuracy)+1\n",
    "print(optimalAlpha)"
   ]
  },
  {
   "cell_type": "markdown",
   "id": "098fb51b",
   "metadata": {},
   "source": [
    "# STEP 5: MEASURE ACCURACY ON TEST DATA"
   ]
  },
  {
   "cell_type": "code",
   "execution_count": 8,
   "id": "59f98416",
   "metadata": {},
   "outputs": [
    {
     "name": "stdout",
     "output_type": "stream",
     "text": [
      "[0. 1. 0. 0. 0. 0. 0. 0. 0. 0. 0. 0. 1. 0. 0. 0. 0. 0. 1. 1. 0. 0. 0. 0.\n",
      " 0. 0. 0. 0. 0. 0. 0. 0. 0. 0. 0. 0. 0. 0. 0. 1. 0. 0. 1. 0. 0. 0. 0. 0.\n",
      " 0. 0. 0. 0. 0. 0. 0. 0. 0. 0. 1. 0. 0. 1. 0. 0. 0. 0. 0. 0. 0. 0. 1. 0.\n",
      " 0. 0. 0. 0. 1. 0. 0. 0. 0. 0. 0. 0. 0. 0.]\n",
      "Accuracy 0.8\n"
     ]
    }
   ],
   "source": [
    "#Create a Gaussian Classifier\n",
    "gnb = GaussianNB(var_smoothing=1/np.power(10,optimalAlpha))\n",
    "    #Train the model using the training sets\n",
    "gnb.fit(xTrain, yTrain)\n",
    "\n",
    "    #Predict the response for test dataset\n",
    "y_pred = gnb.predict(xTest)\n",
    "print(y_pred)\n",
    "\n",
    "    #Accuracy of Predict\n",
    "modelAccuracy.append(metrics.recall_score(yTest, y_pred))\n",
    "print (\"Accuracy\", metrics.recall_score(yTest, y_pred))"
   ]
  },
  {
   "cell_type": "markdown",
   "id": "69ccf189",
   "metadata": {},
   "source": [
    "# STEP 6: CALCULATING THE PERFORMANCE METRICS"
   ]
  },
  {
   "cell_type": "code",
   "execution_count": 9,
   "id": "eb334e20",
   "metadata": {},
   "outputs": [
    {
     "name": "stdout",
     "output_type": "stream",
     "text": [
      "Precision: 0.800000\n",
      "Recall: 0.800000\n",
      "F1 score: 0.800000\n",
      "ROC AUC: 0.886842\n"
     ]
    },
    {
     "name": "stderr",
     "output_type": "stream",
     "text": [
      "C:\\Users\\UNiversal ADV\\miniconda3\\envs\\mlpr\\lib\\site-packages\\sklearn\\utils\\deprecation.py:87: FutureWarning: Function plot_confusion_matrix is deprecated; Function `plot_confusion_matrix` is deprecated in 1.0 and will be removed in 1.2. Use one of the class methods: ConfusionMatrixDisplay.from_predictions or ConfusionMatrixDisplay.from_estimator.\n",
      "  warnings.warn(msg, category=FutureWarning)\n"
     ]
    },
    {
     "data": {
      "text/plain": "<Figure size 432x288 with 2 Axes>",
      "image/png": "[encoded data removed]"
     },
     "metadata": {
      "needs_background": "light"
     },
     "output_type": "display_data"
    }
   ],
   "source": [
    "precision = precision_score(yTest, y_pred)\n",
    "print('Precision: %f' % precision)\n",
    "recall = recall_score(yTest, y_pred)\n",
    "print('Recall: %f' % recall)\n",
    "f1 = f1_score(yTest, y_pred)\n",
    "print('F1 score: %f' % f1)\n",
    "auc = roc_auc_score(yTest, y_pred)\n",
    "print('ROC AUC: %f' % auc)\n",
    "plot_confusion_matrix(gnb, xTest, yTest)\n",
    "plt.show()"
   ]
  },
  {
   "cell_type": "markdown",
   "id": "e4d1cf81",
   "metadata": {},
   "source": [
    "# STEP 7: GRAPHING THE ROC CURVE"
   ]
  },
  {
   "cell_type": "code",
   "execution_count": 10,
   "id": "a26d9e28",
   "metadata": {},
   "outputs": [
    {
     "data": {
      "text/plain": "<Figure size 432x288 with 1 Axes>",
      "image/png": "[encoded data removed]"
     },
     "metadata": {
      "needs_background": "light"
     },
     "output_type": "display_data"
    }
   ],
   "source": [
    "y_pred_proba = gnb.predict_proba(xTest)[::,1]\n",
    "fpr, tpr, _ = metrics.roc_curve(yTest,  y_pred_proba)\n",
    "auc = metrics.roc_auc_score(yTest, y_pred_proba)\n",
    "\n",
    "plt.plot(fpr,tpr,label=\"AUC=\"+str(auc))\n",
    "plt.ylabel('True Positive Rate')\n",
    "plt.xlabel('False Positive Rate')\n",
    "plt.legend(loc=4)\n",
    "plt.show()"
   ]
  },
  {
   "cell_type": "code",
   "execution_count": 10,
   "id": "94c7ec5a",
   "metadata": {},
   "outputs": [],
   "source": []
  }
 ],
 "metadata": {
  "kernelspec": {
   "display_name": "Python 3 (ipykernel)",
   "language": "python",
   "name": "python3"
  },
  "language_info": {
   "codemirror_mode": {
    "name": "ipython",
    "version": 3
   },
   "file_extension": ".py",
   "mimetype": "text/x-python",
   "name": "python",
   "nbconvert_exporter": "python",
   "pygments_lexer": "ipython3",
   "version": "3.9.7"
  }
 },
 "nbformat": 4,
 "nbformat_minor": 5
}